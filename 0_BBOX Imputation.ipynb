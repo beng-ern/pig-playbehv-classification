{
 "cells": [
  {
   "cell_type": "code",
   "execution_count": 1,
   "id": "6b718fbd",
   "metadata": {},
   "outputs": [],
   "source": [
    "import json\n",
    "import os\n",
    "import os.path as osp\n",
    "from glob import glob\n",
    "import re\n",
    "import copy\n",
    "import warnings\n",
    "import argparse\n",
    "\n",
    "import numpy as np\n",
    "import pandas as pd\n",
    "import math\n",
    "\n",
    "from tqdm import tqdm\n",
    "from sklearn.impute import KNNImputer\n",
    "\n",
    "# warnings.filterwarnings(action='ignore')"
   ]
  },
  {
   "cell_type": "code",
   "execution_count": 2,
   "id": "9c5f9105",
   "metadata": {},
   "outputs": [],
   "source": [
    "date = \"20211218\" #divided the file by date\n",
    "json_file_path = \"D:/Dataset_BENG/main_labels\" #main JSON file path from AIDK\n",
    "video_file_path= \"D:/Dataset_BENG/main_videos\" #main video file path from AIDK\n",
    "tol = 45 #nearest N frames"
   ]
  },
  {
   "cell_type": "code",
   "execution_count": 3,
   "id": "c90db2b2",
   "metadata": {},
   "outputs": [
    {
     "data": {
      "text/plain": [
       "['D:/Dataset_BENG/main_labels\\\\20211218\\\\pig_hampyeong_cam1_20211218_073000.json',\n",
       " 'D:/Dataset_BENG/main_labels\\\\20211218\\\\pig_hampyeong_cam1_20211218_125500.json',\n",
       " 'D:/Dataset_BENG/main_labels\\\\20211218\\\\pig_hampyeong_cam1_20211218_180000.json',\n",
       " 'D:/Dataset_BENG/main_labels\\\\20211218\\\\pig_hampyeong_cam1_20211218_230000.json',\n",
       " 'D:/Dataset_BENG/main_labels\\\\20211218\\\\pig_hampyeong_cam2_20211218_073226.json',\n",
       " 'D:/Dataset_BENG/main_labels\\\\20211218\\\\pig_hampyeong_cam2_20211218_125722.json',\n",
       " 'D:/Dataset_BENG/main_labels\\\\20211218\\\\pig_hampyeong_cam2_20211218_180236.json',\n",
       " 'D:/Dataset_BENG/main_labels\\\\20211218\\\\pig_hampyeong_cam2_20211218_230230.json',\n",
       " 'D:/Dataset_BENG/main_labels\\\\20211218\\\\pig_hampyeong_cam3_20211218_073420.json',\n",
       " 'D:/Dataset_BENG/main_labels\\\\20211218\\\\pig_hampyeong_cam3_20211218_130004.json',\n",
       " 'D:/Dataset_BENG/main_labels\\\\20211218\\\\pig_hampyeong_cam3_20211218_180511.json',\n",
       " 'D:/Dataset_BENG/main_labels\\\\20211218\\\\pig_hampyeong_cam3_20211218_230459.json',\n",
       " 'D:/Dataset_BENG/main_labels\\\\20211218\\\\pig_hampyeong_cam4_20211218_073523.json',\n",
       " 'D:/Dataset_BENG/main_labels\\\\20211218\\\\pig_hampyeong_cam4_20211218_130106.json',\n",
       " 'D:/Dataset_BENG/main_labels\\\\20211218\\\\pig_hampyeong_cam4_20211218_180614.json',\n",
       " 'D:/Dataset_BENG/main_labels\\\\20211218\\\\pig_hampyeong_cam4_20211218_230601.json',\n",
       " 'D:/Dataset_BENG/main_labels\\\\20211218\\\\pig_hampyeong_cam5_20211218_073626.json',\n",
       " 'D:/Dataset_BENG/main_labels\\\\20211218\\\\pig_hampyeong_cam5_20211218_130210.json',\n",
       " 'D:/Dataset_BENG/main_labels\\\\20211218\\\\pig_hampyeong_cam5_20211218_180716.json',\n",
       " 'D:/Dataset_BENG/main_labels\\\\20211218\\\\pig_hampyeong_cam5_20211218_230703.json',\n",
       " 'D:/Dataset_BENG/main_labels\\\\20211218\\\\pig_hampyeong_cam6_20211218_073728.json',\n",
       " 'D:/Dataset_BENG/main_labels\\\\20211218\\\\pig_hampyeong_cam6_20211218_130312.json',\n",
       " 'D:/Dataset_BENG/main_labels\\\\20211218\\\\pig_hampyeong_cam6_20211218_180818.json',\n",
       " 'D:/Dataset_BENG/main_labels\\\\20211218\\\\pig_hampyeong_cam6_20211218_230805.json']"
      ]
     },
     "execution_count": 3,
     "metadata": {},
     "output_type": "execute_result"
    }
   ],
   "source": [
    "anno_file_list=glob(osp.join(json_file_path, date, '*'))\n",
    "anno_file_list"
   ]
  },
  {
   "cell_type": "code",
   "execution_count": null,
   "id": "248b9146",
   "metadata": {},
   "outputs": [],
   "source": [
    "# manually key in the file index and run the code\n",
    "json_path = anno_file_list[6]\n",
    "\n",
    "with open(json_path, 'r') as f:\n",
    "    json_file=json.load(f)"
   ]
  },
  {
   "cell_type": "code",
   "execution_count": null,
   "id": "d8fc170a",
   "metadata": {},
   "outputs": [],
   "source": [
    "# frame_num=len(json_file['label_info']['annotations'])"
   ]
  },
  {
   "cell_type": "code",
   "execution_count": null,
   "id": "dd0e1e50",
   "metadata": {},
   "outputs": [],
   "source": [
    "# create a list of pig IDs created in the 1-second long episode\n",
    "all_object_ids = []\n",
    "for frame in json_file['label_info']['annotations']:\n",
    "    for obj in frame:\n",
    "        id_ = obj['object_id']\n",
    "        if id_ not in all_object_ids:\n",
    "            all_object_ids.append(id_)"
   ]
  },
  {
   "cell_type": "code",
   "execution_count": null,
   "id": "fc5d66a1",
   "metadata": {},
   "outputs": [],
   "source": [
    "'''\n",
    "dictionary storing the BBOX coordinates corresponding to each pig ID throughout the whole episode\n",
    "'''\n",
    "\n",
    "dict_frame={'obj_ids':[], 'bbox_dict': {}}\n",
    "\n",
    "for frame in tqdm(json_file['label_info']['annotations']):\n",
    "\n",
    "    obj_in_current_frame = []\n",
    "\n",
    "    for obj in frame:\n",
    "        id_ = obj['object_id']\n",
    "        bbox=obj['bbox']\n",
    "\n",
    "        obj_in_current_frame.append(id_)\n",
    "\n",
    "        if id_ not in dict_frame['obj_ids']:\n",
    "            dict_frame['obj_ids'].append(id_)\n",
    "            dict_frame['obj_ids'].sort()    \n",
    "            # make_bbox_dict\n",
    "            dict_frame['bbox_dict'][str(id_)] = {str(key): [] for key in range(4)}\n",
    "\n",
    "        for i, coord in enumerate(bbox):\n",
    "            dict_frame['bbox_dict'][str(id_)][str(i)].append(coord)\n",
    "\n",
    "    for id_ in all_object_ids:\n",
    "        # it is not in current frame, and this is its first appearance\n",
    "        if (id_ not in obj_in_current_frame) & (id_ not in dict_frame['obj_ids']):\n",
    "            dict_frame['obj_ids'].append(id_)\n",
    "            dict_frame['bbox_dict'][str(id_)] = {str(key): [0] for key in range(4)}\n",
    "        # it is not in current frame, but it has appeared in previous frames\n",
    "        elif (id_ not in obj_in_current_frame) & (id_ in dict_frame['obj_ids']):\n",
    "            dict_frame['bbox_dict'][str(id_)][str(0)].append(0)\n",
    "            dict_frame['bbox_dict'][str(id_)][str(1)].append(0)\n",
    "            dict_frame['bbox_dict'][str(id_)][str(2)].append(0)\n",
    "            dict_frame['bbox_dict'][str(id_)][str(3)].append(0)"
   ]
  },
  {
   "cell_type": "code",
   "execution_count": null,
   "id": "b0b41b7b",
   "metadata": {},
   "outputs": [],
   "source": [
    "'''\n",
    "check if coord info is given for each bbox point\n",
    "'''\n",
    "for ids in all_object_ids:\n",
    "    for j in range(4):\n",
    "        if len(dict_frame['bbox_dict'][str(ids)][str(j)]) != 1800:\n",
    "            print(\"ID\", ids, \"does not have 1800 frames at point\", j)"
   ]
  },
  {
   "cell_type": "markdown",
   "id": "15110740",
   "metadata": {},
   "source": [
    "# Imputation methods"
   ]
  },
  {
   "cell_type": "markdown",
   "id": "8e75ed8e",
   "metadata": {},
   "source": [
    "### Miscellaneous methods"
   ]
  },
  {
   "cell_type": "markdown",
   "id": "edc7546f",
   "metadata": {},
   "source": [
    "#### KNN Imputer"
   ]
  },
  {
   "cell_type": "code",
   "execution_count": null,
   "id": "64fe2127",
   "metadata": {},
   "outputs": [],
   "source": [
    "smooth_dict_frame=copy.deepcopy(dict_frame)\n",
    "imputer = KNNImputer(n_neighbors=5, weights='distance', metric='nan_euclidean')\n",
    "        \n",
    "for id_ in smooth_dict_frame['bbox_dict']:\n",
    "\n",
    "    edge_pts_df = pd.DataFrame(data = (smooth_dict_frame['bbox_dict'][id_]['0'], smooth_dict_frame['bbox_dict'][id_]['1'],\n",
    "                                      smooth_dict_frame['bbox_dict'][id_]['2'], smooth_dict_frame['bbox_dict'][id_]['3'])).T\n",
    "    imputer.fit(edge_pts_df)\n",
    "    imputed_df = imputer.transform(edge_pts_df)\n",
    "    imputed_df = imputed_df.astype(int).T\n",
    "    for j, each_edge in enumerate(smooth_dict_frame['bbox_dict'][id_]):\n",
    "        imputed_seq = imputed_df[j]\n",
    "        smooth_dict_frame['bbox_dict'][id_][each_edge]=imputed_seq        \n",
    "        "
   ]
  },
  {
   "cell_type": "markdown",
   "id": "632cbed1",
   "metadata": {},
   "source": [
    "#### Polynomial regression"
   ]
  },
  {
   "cell_type": "code",
   "execution_count": null,
   "id": "3fc144d8",
   "metadata": {},
   "outputs": [],
   "source": [
    "smooth_dict_frame=copy.deepcopy(dict_frame)\n",
    "\n",
    "for id_ in smooth_dict_frame['bbox_dict']:\n",
    "\n",
    "    for each_edge in smooth_dict_frame['bbox_dict'][id_]:\n",
    "        edge_pts_list = smooth_dict_frame['bbox_dict'][id_][each_edge]\n",
    "        x=list(range(1, len(edge_pts_list)+1))\n",
    "        fitted_model=np.poly1d(np.polyfit(x, edge_pts_list, deg=poly_degree))\n",
    "        fitted_seq=fitted_model(x)\n",
    "        fitted_seq=fitted_seq.astype(np.int)\n",
    "        \n",
    "        smooth_dict_frame['bbox_dict'][id_][each_edge]=fitted_seq\n"
   ]
  },
  {
   "cell_type": "markdown",
   "id": "af8c8fc6",
   "metadata": {},
   "source": [
    "#### Moving Average"
   ]
  },
  {
   "cell_type": "code",
   "execution_count": null,
   "id": "fc04c4e2",
   "metadata": {},
   "outputs": [],
   "source": [
    "smooth_dict_frame=copy.deepcopy(dict_frame)\n",
    "for id_ in smooth_dict_frame['bbox_dict']:\n",
    "\n",
    "    for each_edge in smooth_dict_frame['bbox_dict'][id_]:\n",
    "        bbox_seq=smooth_dict_frame['bbox_dict'][id_][each_edge]\n",
    "\n",
    "        fitted_seq=pd.Series(bbox_seq).rolling(window=wins, min_periods=1).mean().astype(int).values\n",
    "#         fitted_seq=fitted_seq.fillna(method='backfill').astype(np.int).values\n",
    "\n",
    "        smooth_bbox_seq=list(fitted_seq)\n",
    "        smooth_dict_frame['bbox_dict'][id_][each_edge]=smooth_bbox_seq"
   ]
  },
  {
   "cell_type": "markdown",
   "id": "208a50e4",
   "metadata": {},
   "source": [
    "#### Forward fill method"
   ]
  },
  {
   "cell_type": "code",
   "execution_count": null,
   "id": "9c1426b2",
   "metadata": {},
   "outputs": [],
   "source": [
    "smooth_dict_frame=copy.deepcopy(dict_frame)\n",
    "\n",
    "for id_ in smooth_dict_frame['bbox_dict']:\n",
    "\n",
    "    for each_edge in smooth_dict_frame['bbox_dict'][id_]:\n",
    "        \n",
    "        edge_pts_list = smooth_dict_frame['bbox_dict'][id_][each_edge]\n",
    "        edge_pts_list = pd.Series(edge_pts_list)\n",
    "        edge_pts_list = list(edge_pts_list.fillna(method='ffill').fillna(0).astype(int))\n",
    "                    \n",
    "        smooth_dict_frame['bbox_dict'][id_][each_edge]=edge_pts_list"
   ]
  },
  {
   "cell_type": "markdown",
   "id": "bcfc0c1e",
   "metadata": {},
   "source": [
    "### Final method chosen for thesis"
   ]
  },
  {
   "cell_type": "markdown",
   "id": "79221295",
   "metadata": {},
   "source": [
    "#### Simply copy the value of nearest \"non-empty\" frame within distance of N (set as 'tol' above)"
   ]
  },
  {
   "cell_type": "code",
   "execution_count": null,
   "id": "eccd3aaa",
   "metadata": {},
   "outputs": [],
   "source": [
    "smooth_dict_frame=copy.deepcopy(dict_frame)\n",
    "\n",
    "for id_ in smooth_dict_frame['bbox_dict']:\n",
    "\n",
    "    for each_edge in smooth_dict_frame['bbox_dict'][id_]:\n",
    "        \n",
    "        edge_pts_list = smooth_dict_frame['bbox_dict'][id_][each_edge]\n",
    "\n",
    "        for i, point in enumerate(edge_pts_list):\n",
    "            if point == 0:\n",
    "                if (sum(edge_pts_list[max(0, i-tol):i]) > 0) & (sum(edge_pts_list[i+1:i+tol+1]) > 0):\n",
    "                    try:\n",
    "                        edge_pts_list[i] = edge_pts_list[i-1]\n",
    "                    except:\n",
    "                        continue\n",
    "                    \n",
    "        smooth_dict_frame['bbox_dict'][id_][each_edge]=edge_pts_list\n"
   ]
  },
  {
   "cell_type": "code",
   "execution_count": null,
   "id": "d68a1558",
   "metadata": {},
   "outputs": [],
   "source": [
    "json_copy=copy.deepcopy(json_file)\n",
    "\n",
    "for f_idx, frame in enumerate(json_copy['label_info']['annotations']):\n",
    "    \n",
    "    obj_in_current_frame = []    \n",
    "    for obj in frame:\n",
    "        # check new id\n",
    "        id_=obj['object_id']\n",
    "        obj_in_current_frame.append(id_)\n",
    "        \n",
    "        smooth_bbox=[]\n",
    "        for edge in range(4):\n",
    "            smooth_bbox.append(smooth_dict_frame['bbox_dict'][str(id_)][str(edge)][f_idx])                \n",
    "\n",
    "        # get object index and replace bbox annotation\n",
    "        k=obj_in_current_frame.index(id_)\n",
    "        json_copy['label_info']['annotations'][f_idx][k]['bbox']=smooth_bbox\n",
    "            \n",
    "    for id_ in dict_frame['obj_ids']:\n",
    "        if id_ not in obj_in_current_frame:\n",
    "            smooth_bbox=[]\n",
    "            for edge in range(4):\n",
    "                smooth_bbox.append(smooth_dict_frame['bbox_dict'][str(id_)][str(edge)][f_idx])    \n",
    "            missing_dict = {'bbox': smooth_bbox, 'frame_num': f_idx+1, 'object_id': id_} #impute\n",
    "            frame.append(missing_dict)"
   ]
  },
  {
   "cell_type": "code",
   "execution_count": null,
   "id": "31f883ea",
   "metadata": {},
   "outputs": [],
   "source": [
    "class NpEncoder(json.JSONEncoder):\n",
    "    def default(self, obj):\n",
    "        if isinstance(obj, np.integer):\n",
    "            return int(obj)\n",
    "        elif isinstance(obj, np.floating):\n",
    "            return float(obj)\n",
    "        elif isinstance(obj, np.ndarray):\n",
    "            return obj.tolist()\n",
    "        else:\n",
    "            return super(NpEncoder, self).default(obj)"
   ]
  },
  {
   "cell_type": "code",
   "execution_count": null,
   "id": "d5698e6e",
   "metadata": {},
   "outputs": [],
   "source": [
    "'''\n",
    "save new imputed bbox\n",
    "'''\n",
    "if not osp.exists(osp.join(json_file_path, 'tol45', date)):\n",
    "    os.makedirs(osp.join(json_file_path, 'tol45', date))\n",
    "\n",
    "with open(json_path.replace('main_labels', 'main_labels/tol45'), 'w') as outfile:\n",
    "    json.dump(json_copy, outfile, cls=NpEncoder)"
   ]
  },
  {
   "cell_type": "markdown",
   "id": "916c633f",
   "metadata": {},
   "source": [
    "<br>\n",
    "<br>\n",
    "\n",
    "### SAVE the video with display of pigID and BBOX\n",
    "*CAN IGNORE THIS! just for visualization*"
   ]
  },
  {
   "cell_type": "code",
   "execution_count": null,
   "id": "43b5fdfd",
   "metadata": {},
   "outputs": [
    {
     "name": "stdout",
     "output_type": "stream",
     "text": [
      "Video Open: D:/Dataset_BENG/main_videos/20211218/pig_hampyeong_cam4_20211218_073523.avi\n"
     ]
    }
   ],
   "source": [
    "save_video = True\n",
    "resize_rate = 1/2\n",
    "frame_limit= 60*30 ## 60sec, 30FPS\n",
    "def main():\n",
    "    np.random.seed(32)\n",
    "    colours = np.random.randint(10, 245, size=(64, 3))  ## Used only for display\n",
    "\n",
    "    \n",
    "    idx= 0\n",
    "    \n",
    "    while True:\n",
    "        frame_count= 0\n",
    "        video_file= 'pig_hampyeong_cam4_20211218_073523_imputed.avi'\n",
    "#         video_file= new_video_list[idx]\n",
    "        ################################\n",
    "        ## Check Video file and Open\n",
    "#         video_file_path = os.path.join(video_path, video_file)\n",
    "#         video_file_path = 'D:/Dataset_BENG/main_videos/20211217/pig_hampyeong_cam3_20211217_073449.avi'      \n",
    "        video_file_path = video_path\n",
    "        capture = cv2.VideoCapture(video_file_path)\n",
    "\n",
    "        if not capture.isOpened():\n",
    "            print(\"\\n Video file does not exist. (%s)\"% video_path)\n",
    "            continue\n",
    "        \n",
    "        print(\"Video Open: %s\"% video_file_path)\n",
    "        video_fps= int(capture.get(cv2.CAP_PROP_FPS))\n",
    "\n",
    "        ################################\n",
    "        ## Check JSON file and Open\n",
    "#         label_file_path= 'D:/Dataset_BENG/main_labels/tol45/20211216/pig_hampyeong_cam3_20211216_230507.json'\n",
    "        label_file_path = label_path\n",
    "        \n",
    "        if os.path.exists(label_file_path)== False:\n",
    "            print(\"\\n json file does not exist. (%s.json)\"% os.path.splitext(video_file)[0])\n",
    "            continue\n",
    "\n",
    "        with open(label_file_path, \"r\") as jf:\n",
    "            json_data = json.load(jf)\n",
    "            \n",
    "        ################################\n",
    "        ## For Save video\n",
    "        if save_video:\n",
    "            video_width= int(capture.get(cv2.CAP_PROP_FRAME_WIDTH))\n",
    "            video_height= int(capture.get(cv2.CAP_PROP_FRAME_HEIGHT))       \n",
    "            fourcc = cv2.VideoWriter_fourcc(*'DIVX')\n",
    "            out = cv2.VideoWriter(video_file, fourcc, video_fps, (video_width, video_height))\n",
    "\n",
    "        ################################\n",
    "        ## Show Images\n",
    "        while capture.isOpened():\n",
    "            res, img = capture.read()\n",
    "            current_frame= int(capture.get(cv2.CAP_PROP_POS_FRAMES))            \n",
    "\n",
    "            if img is None:\n",
    "                idx= (idx+1)%(len(video_list))\n",
    "                print(\"Last frame\")\n",
    "                break\n",
    "\n",
    "            frame =json_data['label_info']['annotations'][current_frame-1]\n",
    "            for annotation in frame:\n",
    "                bbox= annotation['bbox']\n",
    "                object_id= annotation['object_id']\n",
    "                # derive the centre of the bounding box\n",
    "                centre_x = int((bbox[0] + bbox[2])/2)\n",
    "                centre_y = int((bbox[1] + bbox[3])/2)\n",
    "\n",
    "                ## Draw Rectangle (BBox)\n",
    "                cv2.rectangle(img, (bbox[0], bbox[1]), (bbox[2], bbox[3]),\n",
    "                            (int(colours[object_id % 64, 0]), int(colours[object_id % 64, 1]), int(colours[object_id % 64, 2])), 1)\n",
    "#                 cv2.circle(img, (centre_x, centre_y), radius=5, color=(255, 255, 0), thickness=-1)\n",
    "\n",
    "                ## Print Pig ID\n",
    "                cv2.putText(img, \"%d\"% object_id, (bbox[0], bbox[1]+25), cv2.FONT_HERSHEY_SIMPLEX, 0.5,\n",
    "                                    (255, 255, 255), 10)\n",
    "                cv2.putText(img, \"%d\"% object_id, (bbox[0], bbox[1]+25), cv2.FONT_HERSHEY_SIMPLEX, 0.5,\n",
    "                            (int(colours[object_id % 64, 0]), int(colours[object_id % 64, 1]), int(colours[object_id % 64, 2])), 2)\n",
    "\n",
    "            #############################\n",
    "            ## For information Text\n",
    "            video_file = video_path.split('/')[-1]\n",
    "            cv2.putText(img, video_file, (10, 30), cv2.FONT_HERSHEY_SIMPLEX, 0.9, (255,255,255), 2)\n",
    "            cv2.putText(img, str(current_frame), (1000, 30), cv2.FONT_HERSHEY_SIMPLEX, 0.9, (255,255,255), 2)\n",
    "#             cv2.putText(img, \"A:Prev / D:Next\", (10, 60), cv2.FONT_HERSHEY_SIMPLEX, 0.9, (255,255,255), 2)\n",
    "#             cv2.putText(img, \"Q:Exit\", (10, 90), cv2.FONT_HERSHEY_SIMPLEX, 0.9, (255,255,255), 2)\n",
    "            \n",
    "            if save_video:\n",
    "                out.write(img)\n",
    "                \n",
    "            frame_count= frame_count+ 1\n",
    "\n",
    "            cv2.imshow(\"Tracking result\", cv2.resize(img, (0,0), fx=resize_rate, fy= resize_rate))\n",
    "            key = cv2.waitKey(video_fps)\n",
    "#             key = cv2.waitKey(1)\n",
    "\n",
    "            ## exit Q key\n",
    "            if key == ord('q'):\n",
    "                capture.release()\n",
    "                exit()\n",
    "            ## next A key\n",
    "#             if key == ord('a'):\n",
    "#                 idx= (idx-1)%(len(video_list))\n",
    "#                 break\n",
    "#             if key == ord('d') or frame_count >= frame_limit:\n",
    "#                 idx= (idx+1)%(len(video_list))\n",
    "#                 break\n",
    "            if key == ord('p'):\n",
    "                print(\"playful behavior appears at frame #\", current_frame)\n",
    "                cv2.waitKey(10000)\n",
    "        \n",
    "        capture.release()\n",
    "\n",
    "\n",
    "\n",
    "if __name__ == \"__main__\":\n",
    "    main()"
   ]
  },
  {
   "cell_type": "code",
   "execution_count": null,
   "id": "3b83c17d",
   "metadata": {},
   "outputs": [],
   "source": []
  }
 ],
 "metadata": {
  "kernelspec": {
   "display_name": "Python 3",
   "language": "python",
   "name": "python3"
  },
  "language_info": {
   "codemirror_mode": {
    "name": "ipython",
    "version": 3
   },
   "file_extension": ".py",
   "mimetype": "text/x-python",
   "name": "python",
   "nbconvert_exporter": "python",
   "pygments_lexer": "ipython3",
   "version": "3.8.8"
  }
 },
 "nbformat": 4,
 "nbformat_minor": 5
}
