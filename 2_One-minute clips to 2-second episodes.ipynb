{
 "cells": [
  {
   "cell_type": "code",
   "execution_count": null,
   "id": "6922f415",
   "metadata": {},
   "outputs": [],
   "source": [
    "# import cv2\n",
    "# from datetime import datetime"
   ]
  },
  {
   "cell_type": "code",
   "execution_count": 13,
   "id": "14926128",
   "metadata": {},
   "outputs": [],
   "source": [
    "import pandas as pd\n",
    "import numpy as np\n",
    "import natsort"
   ]
  },
  {
   "cell_type": "code",
   "execution_count": 14,
   "id": "32ee94b8",
   "metadata": {},
   "outputs": [],
   "source": [
    "from moviepy.video.io.VideoFileClip import VideoFileClip\n",
    "from tqdm import tqdm\n",
    "import os.path as osp\n",
    "import os\n",
    "from glob import glob"
   ]
  },
  {
   "cell_type": "code",
   "execution_count": null,
   "id": "25282e8e",
   "metadata": {},
   "outputs": [],
   "source": [
    "# main_video_path = 'D:/Dataset_BENG/short_clips/20211218073420/'\n",
    "# video_file_list=glob(osp.join(main_video_path, '*'))\n",
    "# pig_id = '5'\n",
    "# output_video_path = os.path.join(main_video_path, pig_id)\n",
    "# idx=1\n",
    "# output_video_path+\"/{}.avi\".format(idx)\n",
    "# # output_video_path"
   ]
  },
  {
   "cell_type": "code",
   "execution_count": 39,
   "id": "0f014a11",
   "metadata": {},
   "outputs": [],
   "source": [
    "main_video_path = 'D:/Dataset_BENG/short_clips/'\n",
    "# os.listdir(main_video_path)"
   ]
  },
  {
   "cell_type": "code",
   "execution_count": 40,
   "id": "73dfb797",
   "metadata": {},
   "outputs": [],
   "source": [
    "# change this manually\n",
    "date_time = '20211222125713'\n",
    "main_video_path = main_video_path + date_time + '/'\n",
    "video_file_list=glob(osp.join(main_video_path, '*'))\n",
    "# video_file_list"
   ]
  },
  {
   "cell_type": "code",
   "execution_count": 41,
   "id": "dfc5ee02",
   "metadata": {},
   "outputs": [
    {
     "data": {
      "text/plain": [
       "'D:/Dataset_BENG/short_clips/20211222125713/'"
      ]
     },
     "execution_count": 41,
     "metadata": {},
     "output_type": "execute_result"
    }
   ],
   "source": [
    "main_video_path"
   ]
  },
  {
   "cell_type": "code",
   "execution_count": null,
   "id": "85bf8fdb",
   "metadata": {},
   "outputs": [],
   "source": [
    "# video_file_list"
   ]
  },
  {
   "cell_type": "code",
   "execution_count": 42,
   "id": "68048f1b",
   "metadata": {},
   "outputs": [
    {
     "name": "stderr",
     "output_type": "stream",
     "text": [
      "  0%|                                                                                           | 0/30 [00:00<?, ?it/s]"
     ]
    },
    {
     "name": "stdout",
     "output_type": "stream",
     "text": [
      "Moviepy - Building video D:/Dataset_BENG/short_clips/20211222125713/27/27_1.avi.\n",
      "Moviepy - Writing video D:/Dataset_BENG/short_clips/20211222125713/27/27_1.avi\n",
      "\n"
     ]
    },
    {
     "name": "stderr",
     "output_type": "stream",
     "text": [
      "\n",
      "t:   0%|                                                                              | 0/60 [00:00<?, ?it/s, now=None]\u001b[A\n",
      "  3%|██▊                                                                                | 1/30 [00:00<00:07,  3.95it/s]\u001b[A"
     ]
    },
    {
     "name": "stdout",
     "output_type": "stream",
     "text": [
      "Moviepy - Done !\n",
      "Moviepy - video ready D:/Dataset_BENG/short_clips/20211222125713/27/27_1.avi\n"
     ]
    },
    {
     "name": "stderr",
     "output_type": "stream",
     "text": [
      "  3%|██▊                                                                                | 1/30 [00:00<00:07,  3.95it/s]"
     ]
    },
    {
     "name": "stdout",
     "output_type": "stream",
     "text": [
      "Moviepy - Building video D:/Dataset_BENG/short_clips/20211222125713/27/27_2.avi.\n",
      "Moviepy - Writing video D:/Dataset_BENG/short_clips/20211222125713/27/27_2.avi\n",
      "\n"
     ]
    },
    {
     "name": "stderr",
     "output_type": "stream",
     "text": [
      "\n",
      "t:   0%|                                                                              | 0/60 [00:00<?, ?it/s, now=None]\u001b[A\n",
      "  7%|█████▌                                                                             | 2/30 [00:00<00:06,  4.06it/s]\u001b[A"
     ]
    },
    {
     "name": "stdout",
     "output_type": "stream",
     "text": [
      "Moviepy - Done !\n",
      "Moviepy - video ready D:/Dataset_BENG/short_clips/20211222125713/27/27_2.avi\n"
     ]
    },
    {
     "name": "stderr",
     "output_type": "stream",
     "text": [
      "  7%|█████▌                                                                             | 2/30 [00:00<00:06,  4.06it/s]"
     ]
    },
    {
     "name": "stdout",
     "output_type": "stream",
     "text": [
      "Moviepy - Building video D:/Dataset_BENG/short_clips/20211222125713/27/27_3.avi.\n",
      "Moviepy - Writing video D:/Dataset_BENG/short_clips/20211222125713/27/27_3.avi\n",
      "\n"
     ]
    },
    {
     "name": "stderr",
     "output_type": "stream",
     "text": [
      "\n",
      "t:   0%|                                                                              | 0/60 [00:00<?, ?it/s, now=None]\u001b[A\n",
      "t:  85%|█████████████████████████████████████████████████████████▊          | 51/60 [00:00<00:00, 506.62it/s, now=None]\u001b[A\n",
      " 10%|████████▎                                                                          | 3/30 [00:00<00:08,  3.36it/s]\u001b[A"
     ]
    },
    {
     "name": "stdout",
     "output_type": "stream",
     "text": [
      "Moviepy - Done !\n",
      "Moviepy - video ready D:/Dataset_BENG/short_clips/20211222125713/27/27_3.avi\n"
     ]
    },
    {
     "name": "stderr",
     "output_type": "stream",
     "text": [
      " 10%|████████▎                                                                          | 3/30 [00:01<00:08,  3.36it/s]"
     ]
    },
    {
     "name": "stdout",
     "output_type": "stream",
     "text": [
      "Moviepy - Building video D:/Dataset_BENG/short_clips/20211222125713/27/27_4.avi.\n",
      "Moviepy - Writing video D:/Dataset_BENG/short_clips/20211222125713/27/27_4.avi\n",
      "\n"
     ]
    },
    {
     "name": "stderr",
     "output_type": "stream",
     "text": [
      "\n",
      "t:   0%|                                                                              | 0/60 [00:00<?, ?it/s, now=None]\u001b[A\n",
      " 13%|███████████                                                                        | 4/30 [00:01<00:08,  3.22it/s]\u001b[A"
     ]
    },
    {
     "name": "stdout",
     "output_type": "stream",
     "text": [
      "Moviepy - Done !\n",
      "Moviepy - video ready D:/Dataset_BENG/short_clips/20211222125713/27/27_4.avi\n"
     ]
    },
    {
     "name": "stderr",
     "output_type": "stream",
     "text": [
      " 13%|███████████                                                                        | 4/30 [00:01<00:08,  3.22it/s]"
     ]
    },
    {
     "name": "stdout",
     "output_type": "stream",
     "text": [
      "Moviepy - Building video D:/Dataset_BENG/short_clips/20211222125713/27/27_5.avi.\n",
      "Moviepy - Writing video D:/Dataset_BENG/short_clips/20211222125713/27/27_5.avi\n",
      "\n"
     ]
    },
    {
     "name": "stderr",
     "output_type": "stream",
     "text": [
      "\n",
      "t:   0%|                                                                              | 0/60 [00:00<?, ?it/s, now=None]\u001b[A\n",
      " 17%|█████████████▊                                                                     | 5/30 [00:01<00:07,  3.15it/s]\u001b[A"
     ]
    },
    {
     "name": "stdout",
     "output_type": "stream",
     "text": [
      "Moviepy - Done !\n",
      "Moviepy - video ready D:/Dataset_BENG/short_clips/20211222125713/27/27_5.avi\n"
     ]
    },
    {
     "name": "stderr",
     "output_type": "stream",
     "text": [
      " 17%|█████████████▊                                                                     | 5/30 [00:01<00:07,  3.15it/s]"
     ]
    },
    {
     "name": "stdout",
     "output_type": "stream",
     "text": [
      "Moviepy - Building video D:/Dataset_BENG/short_clips/20211222125713/27/27_6.avi.\n",
      "Moviepy - Writing video D:/Dataset_BENG/short_clips/20211222125713/27/27_6.avi\n",
      "\n"
     ]
    },
    {
     "name": "stderr",
     "output_type": "stream",
     "text": [
      "\n",
      "t:   0%|                                                                              | 0/60 [00:00<?, ?it/s, now=None]\u001b[A\n",
      " 20%|████████████████▌                                                                  | 6/30 [00:01<00:07,  3.09it/s]\u001b[A"
     ]
    },
    {
     "name": "stdout",
     "output_type": "stream",
     "text": [
      "Moviepy - Done !\n",
      "Moviepy - video ready D:/Dataset_BENG/short_clips/20211222125713/27/27_6.avi\n"
     ]
    },
    {
     "name": "stderr",
     "output_type": "stream",
     "text": [
      " 20%|████████████████▌                                                                  | 6/30 [00:02<00:07,  3.09it/s]"
     ]
    },
    {
     "name": "stdout",
     "output_type": "stream",
     "text": [
      "Moviepy - Building video D:/Dataset_BENG/short_clips/20211222125713/27/27_7.avi.\n",
      "Moviepy - Writing video D:/Dataset_BENG/short_clips/20211222125713/27/27_7.avi\n",
      "\n"
     ]
    },
    {
     "name": "stderr",
     "output_type": "stream",
     "text": [
      "\n",
      "t:   0%|                                                                              | 0/60 [00:00<?, ?it/s, now=None]\u001b[A\n",
      " 23%|███████████████████▎                                                               | 7/30 [00:02<00:07,  3.04it/s]\u001b[A"
     ]
    },
    {
     "name": "stdout",
     "output_type": "stream",
     "text": [
      "Moviepy - Done !\n",
      "Moviepy - video ready D:/Dataset_BENG/short_clips/20211222125713/27/27_7.avi\n"
     ]
    },
    {
     "name": "stderr",
     "output_type": "stream",
     "text": [
      " 23%|███████████████████▎                                                               | 7/30 [00:02<00:07,  3.04it/s]"
     ]
    },
    {
     "name": "stdout",
     "output_type": "stream",
     "text": [
      "Moviepy - Building video D:/Dataset_BENG/short_clips/20211222125713/27/27_8.avi.\n",
      "Moviepy - Writing video D:/Dataset_BENG/short_clips/20211222125713/27/27_8.avi\n",
      "\n"
     ]
    },
    {
     "name": "stderr",
     "output_type": "stream",
     "text": [
      "\n",
      "t:   0%|                                                                              | 0/60 [00:00<?, ?it/s, now=None]\u001b[A\n",
      " 27%|██████████████████████▏                                                            | 8/30 [00:02<00:07,  2.99it/s]\u001b[A"
     ]
    },
    {
     "name": "stdout",
     "output_type": "stream",
     "text": [
      "Moviepy - Done !\n",
      "Moviepy - video ready D:/Dataset_BENG/short_clips/20211222125713/27/27_8.avi\n"
     ]
    },
    {
     "name": "stderr",
     "output_type": "stream",
     "text": [
      " 27%|██████████████████████▏                                                            | 8/30 [00:02<00:07,  2.99it/s]"
     ]
    },
    {
     "name": "stdout",
     "output_type": "stream",
     "text": [
      "Moviepy - Building video D:/Dataset_BENG/short_clips/20211222125713/27/27_9.avi.\n",
      "Moviepy - Writing video D:/Dataset_BENG/short_clips/20211222125713/27/27_9.avi\n",
      "\n"
     ]
    },
    {
     "name": "stderr",
     "output_type": "stream",
     "text": [
      "\n",
      "t:   0%|                                                                              | 0/60 [00:00<?, ?it/s, now=None]\u001b[A\n",
      " 30%|████████████████████████▉                                                          | 9/30 [00:02<00:06,  3.00it/s]\u001b[A"
     ]
    },
    {
     "name": "stdout",
     "output_type": "stream",
     "text": [
      "Moviepy - Done !\n",
      "Moviepy - video ready D:/Dataset_BENG/short_clips/20211222125713/27/27_9.avi\n"
     ]
    },
    {
     "name": "stderr",
     "output_type": "stream",
     "text": [
      " 30%|████████████████████████▉                                                          | 9/30 [00:03<00:06,  3.00it/s]"
     ]
    },
    {
     "name": "stdout",
     "output_type": "stream",
     "text": [
      "Moviepy - Building video D:/Dataset_BENG/short_clips/20211222125713/27/27_10.avi.\n",
      "Moviepy - Writing video D:/Dataset_BENG/short_clips/20211222125713/27/27_10.avi\n",
      "\n"
     ]
    },
    {
     "name": "stderr",
     "output_type": "stream",
     "text": [
      "\n",
      "t:   0%|                                                                              | 0/60 [00:00<?, ?it/s, now=None]\u001b[A\n",
      " 33%|███████████████████████████▎                                                      | 10/30 [00:03<00:06,  2.89it/s]\u001b[A"
     ]
    },
    {
     "name": "stdout",
     "output_type": "stream",
     "text": [
      "Moviepy - Done !\n",
      "Moviepy - video ready D:/Dataset_BENG/short_clips/20211222125713/27/27_10.avi\n"
     ]
    },
    {
     "name": "stderr",
     "output_type": "stream",
     "text": [
      " 33%|███████████████████████████▎                                                      | 10/30 [00:03<00:06,  2.89it/s]"
     ]
    },
    {
     "name": "stdout",
     "output_type": "stream",
     "text": [
      "Moviepy - Building video D:/Dataset_BENG/short_clips/20211222125713/27/27_11.avi.\n",
      "Moviepy - Writing video D:/Dataset_BENG/short_clips/20211222125713/27/27_11.avi\n",
      "\n"
     ]
    },
    {
     "name": "stderr",
     "output_type": "stream",
     "text": [
      "\n",
      "t:   0%|                                                                              | 0/60 [00:00<?, ?it/s, now=None]\u001b[A\n",
      " 37%|██████████████████████████████                                                    | 11/30 [00:03<00:06,  2.89it/s]\u001b[A"
     ]
    },
    {
     "name": "stdout",
     "output_type": "stream",
     "text": [
      "Moviepy - Done !\n",
      "Moviepy - video ready D:/Dataset_BENG/short_clips/20211222125713/27/27_11.avi\n"
     ]
    },
    {
     "name": "stderr",
     "output_type": "stream",
     "text": [
      " 37%|██████████████████████████████                                                    | 11/30 [00:03<00:06,  2.89it/s]"
     ]
    },
    {
     "name": "stdout",
     "output_type": "stream",
     "text": [
      "Moviepy - Building video D:/Dataset_BENG/short_clips/20211222125713/27/27_12.avi.\n",
      "Moviepy - Writing video D:/Dataset_BENG/short_clips/20211222125713/27/27_12.avi\n",
      "\n"
     ]
    },
    {
     "name": "stderr",
     "output_type": "stream",
     "text": [
      "\n",
      "t:   0%|                                                                              | 0/60 [00:00<?, ?it/s, now=None]\u001b[A\n",
      " 40%|████████████████████████████████▊                                                 | 12/30 [00:03<00:06,  2.89it/s]\u001b[A"
     ]
    },
    {
     "name": "stdout",
     "output_type": "stream",
     "text": [
      "Moviepy - Done !\n",
      "Moviepy - video ready D:/Dataset_BENG/short_clips/20211222125713/27/27_12.avi\n"
     ]
    },
    {
     "name": "stderr",
     "output_type": "stream",
     "text": [
      " 40%|████████████████████████████████▊                                                 | 12/30 [00:04<00:06,  2.89it/s]"
     ]
    },
    {
     "name": "stdout",
     "output_type": "stream",
     "text": [
      "Moviepy - Building video D:/Dataset_BENG/short_clips/20211222125713/27/27_13.avi.\n",
      "Moviepy - Writing video D:/Dataset_BENG/short_clips/20211222125713/27/27_13.avi\n",
      "\n"
     ]
    },
    {
     "name": "stderr",
     "output_type": "stream",
     "text": [
      "\n",
      "t:   0%|                                                                              | 0/60 [00:00<?, ?it/s, now=None]\u001b[A\n",
      " 43%|███████████████████████████████████▌                                              | 13/30 [00:04<00:05,  2.89it/s]\u001b[A"
     ]
    },
    {
     "name": "stdout",
     "output_type": "stream",
     "text": [
      "Moviepy - Done !\n",
      "Moviepy - video ready D:/Dataset_BENG/short_clips/20211222125713/27/27_13.avi\n"
     ]
    },
    {
     "name": "stderr",
     "output_type": "stream",
     "text": [
      " 43%|███████████████████████████████████▌                                              | 13/30 [00:04<00:05,  2.89it/s]"
     ]
    },
    {
     "name": "stdout",
     "output_type": "stream",
     "text": [
      "Moviepy - Building video D:/Dataset_BENG/short_clips/20211222125713/27/27_14.avi.\n",
      "Moviepy - Writing video D:/Dataset_BENG/short_clips/20211222125713/27/27_14.avi\n",
      "\n"
     ]
    },
    {
     "name": "stderr",
     "output_type": "stream",
     "text": [
      "\n",
      "t:   0%|                                                                              | 0/60 [00:00<?, ?it/s, now=None]\u001b[A\n",
      " 47%|██████████████████████████████████████▎                                           | 14/30 [00:04<00:05,  2.89it/s]\u001b[A"
     ]
    },
    {
     "name": "stdout",
     "output_type": "stream",
     "text": [
      "Moviepy - Done !\n",
      "Moviepy - video ready D:/Dataset_BENG/short_clips/20211222125713/27/27_14.avi\n"
     ]
    },
    {
     "name": "stderr",
     "output_type": "stream",
     "text": [
      " 47%|██████████████████████████████████████▎                                           | 14/30 [00:04<00:05,  2.89it/s]"
     ]
    },
    {
     "name": "stdout",
     "output_type": "stream",
     "text": [
      "Moviepy - Building video D:/Dataset_BENG/short_clips/20211222125713/27/27_15.avi.\n",
      "Moviepy - Writing video D:/Dataset_BENG/short_clips/20211222125713/27/27_15.avi\n",
      "\n"
     ]
    },
    {
     "name": "stderr",
     "output_type": "stream",
     "text": [
      "\n",
      "t:   0%|                                                                              | 0/60 [00:00<?, ?it/s, now=None]\u001b[A\n",
      " 50%|█████████████████████████████████████████                                         | 15/30 [00:04<00:05,  2.90it/s]\u001b[A"
     ]
    },
    {
     "name": "stdout",
     "output_type": "stream",
     "text": [
      "Moviepy - Done !\n",
      "Moviepy - video ready D:/Dataset_BENG/short_clips/20211222125713/27/27_15.avi\n"
     ]
    },
    {
     "name": "stderr",
     "output_type": "stream",
     "text": [
      " 50%|█████████████████████████████████████████                                         | 15/30 [00:05<00:05,  2.90it/s]"
     ]
    },
    {
     "name": "stdout",
     "output_type": "stream",
     "text": [
      "Moviepy - Building video D:/Dataset_BENG/short_clips/20211222125713/27/27_16.avi.\n",
      "Moviepy - Writing video D:/Dataset_BENG/short_clips/20211222125713/27/27_16.avi\n",
      "\n"
     ]
    },
    {
     "name": "stderr",
     "output_type": "stream",
     "text": [
      "\n",
      "t:   0%|                                                                              | 0/60 [00:00<?, ?it/s, now=None]\u001b[A\n",
      " 53%|███████████████████████████████████████████▋                                      | 16/30 [00:05<00:04,  2.95it/s]\u001b[A"
     ]
    },
    {
     "name": "stdout",
     "output_type": "stream",
     "text": [
      "Moviepy - Done !\n",
      "Moviepy - video ready D:/Dataset_BENG/short_clips/20211222125713/27/27_16.avi\n"
     ]
    },
    {
     "name": "stderr",
     "output_type": "stream",
     "text": [
      " 53%|███████████████████████████████████████████▋                                      | 16/30 [00:05<00:04,  2.95it/s]"
     ]
    },
    {
     "name": "stdout",
     "output_type": "stream",
     "text": [
      "Moviepy - Building video D:/Dataset_BENG/short_clips/20211222125713/27/27_17.avi.\n",
      "Moviepy - Writing video D:/Dataset_BENG/short_clips/20211222125713/27/27_17.avi\n",
      "\n"
     ]
    },
    {
     "name": "stderr",
     "output_type": "stream",
     "text": [
      "\n",
      "t:   0%|                                                                              | 0/60 [00:00<?, ?it/s, now=None]\u001b[A\n",
      " 57%|██████████████████████████████████████████████▍                                   | 17/30 [00:05<00:04,  2.95it/s]\u001b[A"
     ]
    },
    {
     "name": "stdout",
     "output_type": "stream",
     "text": [
      "Moviepy - Done !\n",
      "Moviepy - video ready D:/Dataset_BENG/short_clips/20211222125713/27/27_17.avi\n"
     ]
    },
    {
     "name": "stderr",
     "output_type": "stream",
     "text": [
      " 57%|██████████████████████████████████████████████▍                                   | 17/30 [00:05<00:04,  2.95it/s]"
     ]
    },
    {
     "name": "stdout",
     "output_type": "stream",
     "text": [
      "Moviepy - Building video D:/Dataset_BENG/short_clips/20211222125713/27/27_18.avi.\n",
      "Moviepy - Writing video D:/Dataset_BENG/short_clips/20211222125713/27/27_18.avi\n",
      "\n"
     ]
    },
    {
     "name": "stderr",
     "output_type": "stream",
     "text": [
      "\n",
      "t:   0%|                                                                              | 0/60 [00:00<?, ?it/s, now=None]\u001b[A\n",
      " 60%|█████████████████████████████████████████████████▏                                | 18/30 [00:05<00:04,  2.93it/s]\u001b[A"
     ]
    },
    {
     "name": "stdout",
     "output_type": "stream",
     "text": [
      "Moviepy - Done !\n",
      "Moviepy - video ready D:/Dataset_BENG/short_clips/20211222125713/27/27_18.avi\n"
     ]
    },
    {
     "name": "stderr",
     "output_type": "stream",
     "text": [
      " 60%|█████████████████████████████████████████████████▏                                | 18/30 [00:06<00:04,  2.93it/s]"
     ]
    },
    {
     "name": "stdout",
     "output_type": "stream",
     "text": [
      "Moviepy - Building video D:/Dataset_BENG/short_clips/20211222125713/27/27_19.avi.\n",
      "Moviepy - Writing video D:/Dataset_BENG/short_clips/20211222125713/27/27_19.avi\n",
      "\n"
     ]
    },
    {
     "name": "stderr",
     "output_type": "stream",
     "text": [
      "\n",
      "t:   0%|                                                                              | 0/60 [00:00<?, ?it/s, now=None]\u001b[A\n",
      " 63%|███████████████████████████████████████████████████▉                              | 19/30 [00:06<00:03,  2.92it/s]\u001b[A"
     ]
    },
    {
     "name": "stdout",
     "output_type": "stream",
     "text": [
      "Moviepy - Done !\n",
      "Moviepy - video ready D:/Dataset_BENG/short_clips/20211222125713/27/27_19.avi\n"
     ]
    },
    {
     "name": "stderr",
     "output_type": "stream",
     "text": [
      " 63%|███████████████████████████████████████████████████▉                              | 19/30 [00:06<00:03,  2.92it/s]"
     ]
    },
    {
     "name": "stdout",
     "output_type": "stream",
     "text": [
      "Moviepy - Building video D:/Dataset_BENG/short_clips/20211222125713/27/27_20.avi.\n",
      "Moviepy - Writing video D:/Dataset_BENG/short_clips/20211222125713/27/27_20.avi\n",
      "\n"
     ]
    },
    {
     "name": "stderr",
     "output_type": "stream",
     "text": [
      "\n",
      "t:   0%|                                                                              | 0/60 [00:00<?, ?it/s, now=None]\u001b[A\n",
      " 67%|██████████████████████████████████████████████████████▋                           | 20/30 [00:06<00:03,  2.91it/s]\u001b[A"
     ]
    },
    {
     "name": "stdout",
     "output_type": "stream",
     "text": [
      "Moviepy - Done !\n",
      "Moviepy - video ready D:/Dataset_BENG/short_clips/20211222125713/27/27_20.avi\n"
     ]
    },
    {
     "name": "stderr",
     "output_type": "stream",
     "text": [
      " 67%|██████████████████████████████████████████████████████▋                           | 20/30 [00:06<00:03,  2.91it/s]"
     ]
    },
    {
     "name": "stdout",
     "output_type": "stream",
     "text": [
      "Moviepy - Building video D:/Dataset_BENG/short_clips/20211222125713/27/27_21.avi.\n",
      "Moviepy - Writing video D:/Dataset_BENG/short_clips/20211222125713/27/27_21.avi\n",
      "\n"
     ]
    },
    {
     "name": "stderr",
     "output_type": "stream",
     "text": [
      "\n",
      "t:   0%|                                                                              | 0/60 [00:00<?, ?it/s, now=None]\u001b[A\n",
      " 70%|█████████████████████████████████████████████████████████▍                        | 21/30 [00:07<00:03,  2.90it/s]\u001b[A"
     ]
    },
    {
     "name": "stdout",
     "output_type": "stream",
     "text": [
      "Moviepy - Done !\n",
      "Moviepy - video ready D:/Dataset_BENG/short_clips/20211222125713/27/27_21.avi\n"
     ]
    },
    {
     "name": "stderr",
     "output_type": "stream",
     "text": [
      " 70%|█████████████████████████████████████████████████████████▍                        | 21/30 [00:07<00:03,  2.90it/s]"
     ]
    },
    {
     "name": "stdout",
     "output_type": "stream",
     "text": [
      "Moviepy - Building video D:/Dataset_BENG/short_clips/20211222125713/27/27_22.avi.\n",
      "Moviepy - Writing video D:/Dataset_BENG/short_clips/20211222125713/27/27_22.avi\n",
      "\n"
     ]
    },
    {
     "name": "stderr",
     "output_type": "stream",
     "text": [
      "\n",
      "t:   0%|                                                                              | 0/60 [00:00<?, ?it/s, now=None]\u001b[A\n",
      " 73%|████████████████████████████████████████████████████████████▏                     | 22/30 [00:07<00:02,  2.90it/s]\u001b[A"
     ]
    },
    {
     "name": "stdout",
     "output_type": "stream",
     "text": [
      "Moviepy - Done !\n",
      "Moviepy - video ready D:/Dataset_BENG/short_clips/20211222125713/27/27_22.avi\n"
     ]
    },
    {
     "name": "stderr",
     "output_type": "stream",
     "text": [
      " 73%|████████████████████████████████████████████████████████████▏                     | 22/30 [00:07<00:02,  2.90it/s]"
     ]
    },
    {
     "name": "stdout",
     "output_type": "stream",
     "text": [
      "Moviepy - Building video D:/Dataset_BENG/short_clips/20211222125713/27/27_23.avi.\n",
      "Moviepy - Writing video D:/Dataset_BENG/short_clips/20211222125713/27/27_23.avi\n",
      "\n"
     ]
    },
    {
     "name": "stderr",
     "output_type": "stream",
     "text": [
      "\n",
      "t:   0%|                                                                              | 0/60 [00:00<?, ?it/s, now=None]\u001b[A\n",
      " 77%|██████████████████████████████████████████████████████████████▊                   | 23/30 [00:07<00:02,  2.90it/s]\u001b[A"
     ]
    },
    {
     "name": "stdout",
     "output_type": "stream",
     "text": [
      "Moviepy - Done !\n",
      "Moviepy - video ready D:/Dataset_BENG/short_clips/20211222125713/27/27_23.avi\n"
     ]
    },
    {
     "name": "stderr",
     "output_type": "stream",
     "text": [
      " 77%|██████████████████████████████████████████████████████████████▊                   | 23/30 [00:07<00:02,  2.90it/s]"
     ]
    },
    {
     "name": "stdout",
     "output_type": "stream",
     "text": [
      "Moviepy - Building video D:/Dataset_BENG/short_clips/20211222125713/27/27_24.avi.\n",
      "Moviepy - Writing video D:/Dataset_BENG/short_clips/20211222125713/27/27_24.avi\n",
      "\n"
     ]
    },
    {
     "name": "stderr",
     "output_type": "stream",
     "text": [
      "\n",
      "t:   0%|                                                                              | 0/60 [00:00<?, ?it/s, now=None]\u001b[A\n",
      " 80%|█████████████████████████████████████████████████████████████████▌                | 24/30 [00:08<00:02,  2.90it/s]\u001b[A"
     ]
    },
    {
     "name": "stdout",
     "output_type": "stream",
     "text": [
      "Moviepy - Done !\n",
      "Moviepy - video ready D:/Dataset_BENG/short_clips/20211222125713/27/27_24.avi\n"
     ]
    },
    {
     "name": "stderr",
     "output_type": "stream",
     "text": [
      " 80%|█████████████████████████████████████████████████████████████████▌                | 24/30 [00:08<00:02,  2.90it/s]"
     ]
    },
    {
     "name": "stdout",
     "output_type": "stream",
     "text": [
      "Moviepy - Building video D:/Dataset_BENG/short_clips/20211222125713/27/27_25.avi.\n",
      "Moviepy - Writing video D:/Dataset_BENG/short_clips/20211222125713/27/27_25.avi\n",
      "\n"
     ]
    },
    {
     "name": "stderr",
     "output_type": "stream",
     "text": [
      "\n",
      "t:   0%|                                                                              | 0/60 [00:00<?, ?it/s, now=None]\u001b[A\n",
      " 83%|████████████████████████████████████████████████████████████████████▎             | 25/30 [00:08<00:01,  2.89it/s]\u001b[A"
     ]
    },
    {
     "name": "stdout",
     "output_type": "stream",
     "text": [
      "Moviepy - Done !\n",
      "Moviepy - video ready D:/Dataset_BENG/short_clips/20211222125713/27/27_25.avi\n"
     ]
    },
    {
     "name": "stderr",
     "output_type": "stream",
     "text": [
      " 83%|████████████████████████████████████████████████████████████████████▎             | 25/30 [00:08<00:01,  2.89it/s]"
     ]
    },
    {
     "name": "stdout",
     "output_type": "stream",
     "text": [
      "Moviepy - Building video D:/Dataset_BENG/short_clips/20211222125713/27/27_26.avi.\n",
      "Moviepy - Writing video D:/Dataset_BENG/short_clips/20211222125713/27/27_26.avi\n",
      "\n"
     ]
    },
    {
     "name": "stderr",
     "output_type": "stream",
     "text": [
      "\n",
      "t:   0%|                                                                              | 0/60 [00:00<?, ?it/s, now=None]\u001b[A\n",
      " 87%|███████████████████████████████████████████████████████████████████████           | 26/30 [00:08<00:01,  2.89it/s]\u001b[A"
     ]
    },
    {
     "name": "stdout",
     "output_type": "stream",
     "text": [
      "Moviepy - Done !\n",
      "Moviepy - video ready D:/Dataset_BENG/short_clips/20211222125713/27/27_26.avi\n"
     ]
    },
    {
     "name": "stderr",
     "output_type": "stream",
     "text": [
      " 87%|███████████████████████████████████████████████████████████████████████           | 26/30 [00:08<00:01,  2.89it/s]"
     ]
    },
    {
     "name": "stdout",
     "output_type": "stream",
     "text": [
      "Moviepy - Building video D:/Dataset_BENG/short_clips/20211222125713/27/27_27.avi.\n",
      "Moviepy - Writing video D:/Dataset_BENG/short_clips/20211222125713/27/27_27.avi\n",
      "\n"
     ]
    },
    {
     "name": "stderr",
     "output_type": "stream",
     "text": [
      "\n",
      "t:   0%|                                                                              | 0/60 [00:00<?, ?it/s, now=None]\u001b[A\n",
      " 90%|█████████████████████████████████████████████████████████████████████████▊        | 27/30 [00:09<00:01,  2.89it/s]\u001b[A"
     ]
    },
    {
     "name": "stdout",
     "output_type": "stream",
     "text": [
      "Moviepy - Done !\n",
      "Moviepy - video ready D:/Dataset_BENG/short_clips/20211222125713/27/27_27.avi\n"
     ]
    },
    {
     "name": "stderr",
     "output_type": "stream",
     "text": [
      " 90%|█████████████████████████████████████████████████████████████████████████▊        | 27/30 [00:09<00:01,  2.89it/s]"
     ]
    },
    {
     "name": "stdout",
     "output_type": "stream",
     "text": [
      "Moviepy - Building video D:/Dataset_BENG/short_clips/20211222125713/27/27_28.avi.\n",
      "Moviepy - Writing video D:/Dataset_BENG/short_clips/20211222125713/27/27_28.avi\n",
      "\n"
     ]
    },
    {
     "name": "stderr",
     "output_type": "stream",
     "text": [
      "\n",
      "t:   0%|                                                                              | 0/60 [00:00<?, ?it/s, now=None]\u001b[A\n",
      " 93%|████████████████████████████████████████████████████████████████████████████▌     | 28/30 [00:09<00:00,  2.90it/s]\u001b[A"
     ]
    },
    {
     "name": "stdout",
     "output_type": "stream",
     "text": [
      "Moviepy - Done !\n",
      "Moviepy - video ready D:/Dataset_BENG/short_clips/20211222125713/27/27_28.avi\n"
     ]
    },
    {
     "name": "stderr",
     "output_type": "stream",
     "text": [
      " 93%|████████████████████████████████████████████████████████████████████████████▌     | 28/30 [00:09<00:00,  2.90it/s]"
     ]
    },
    {
     "name": "stdout",
     "output_type": "stream",
     "text": [
      "Moviepy - Building video D:/Dataset_BENG/short_clips/20211222125713/27/27_29.avi.\n",
      "Moviepy - Writing video D:/Dataset_BENG/short_clips/20211222125713/27/27_29.avi\n",
      "\n"
     ]
    },
    {
     "name": "stderr",
     "output_type": "stream",
     "text": [
      "\n",
      "t:   0%|                                                                              | 0/60 [00:00<?, ?it/s, now=None]\u001b[A\n",
      " 97%|███████████████████████████████████████████████████████████████████████████████▎  | 29/30 [00:09<00:00,  2.95it/s]\u001b[A"
     ]
    },
    {
     "name": "stdout",
     "output_type": "stream",
     "text": [
      "Moviepy - Done !\n",
      "Moviepy - video ready D:/Dataset_BENG/short_clips/20211222125713/27/27_29.avi\n"
     ]
    },
    {
     "name": "stderr",
     "output_type": "stream",
     "text": [
      " 97%|███████████████████████████████████████████████████████████████████████████████▎  | 29/30 [00:09<00:00,  2.95it/s]"
     ]
    },
    {
     "name": "stdout",
     "output_type": "stream",
     "text": [
      "Moviepy - Building video D:/Dataset_BENG/short_clips/20211222125713/27/27_30.avi.\n",
      "Moviepy - Writing video D:/Dataset_BENG/short_clips/20211222125713/27/27_30.avi\n",
      "\n"
     ]
    },
    {
     "name": "stderr",
     "output_type": "stream",
     "text": [
      "\n",
      "t:   0%|                                                                              | 0/60 [00:00<?, ?it/s, now=None]\u001b[A\n",
      "100%|██████████████████████████████████████████████████████████████████████████████████| 30/30 [00:10<00:00,  2.98it/s]\u001b[A\n"
     ]
    },
    {
     "name": "stdout",
     "output_type": "stream",
     "text": [
      "Moviepy - Done !\n",
      "Moviepy - video ready D:/Dataset_BENG/short_clips/20211222125713/27/27_30.avi\n"
     ]
    },
    {
     "name": "stderr",
     "output_type": "stream",
     "text": [
      "  0%|                                                                                           | 0/30 [00:00<?, ?it/s]"
     ]
    },
    {
     "name": "stdout",
     "output_type": "stream",
     "text": [
      "Moviepy - Building video D:/Dataset_BENG/short_clips/20211222125713/42/42_1.avi.\n",
      "Moviepy - Writing video D:/Dataset_BENG/short_clips/20211222125713/42/42_1.avi\n",
      "\n"
     ]
    },
    {
     "name": "stderr",
     "output_type": "stream",
     "text": [
      "\n",
      "t:   0%|                                                                              | 0/60 [00:00<?, ?it/s, now=None]\u001b[A\n",
      "  3%|██▊                                                                                | 1/30 [00:00<00:07,  3.83it/s]\u001b[A"
     ]
    },
    {
     "name": "stdout",
     "output_type": "stream",
     "text": [
      "Moviepy - Done !\n",
      "Moviepy - video ready D:/Dataset_BENG/short_clips/20211222125713/42/42_1.avi\n"
     ]
    },
    {
     "name": "stderr",
     "output_type": "stream",
     "text": [
      "  3%|██▊                                                                                | 1/30 [00:00<00:07,  3.83it/s]"
     ]
    },
    {
     "name": "stdout",
     "output_type": "stream",
     "text": [
      "Moviepy - Building video D:/Dataset_BENG/short_clips/20211222125713/42/42_2.avi.\n",
      "Moviepy - Writing video D:/Dataset_BENG/short_clips/20211222125713/42/42_2.avi\n",
      "\n"
     ]
    },
    {
     "name": "stderr",
     "output_type": "stream",
     "text": [
      "\n",
      "t:   0%|                                                                              | 0/60 [00:00<?, ?it/s, now=None]\u001b[A\n",
      "  7%|█████▌                                                                             | 2/30 [00:00<00:07,  3.75it/s]\u001b[A"
     ]
    },
    {
     "name": "stdout",
     "output_type": "stream",
     "text": [
      "Moviepy - Done !\n",
      "Moviepy - video ready D:/Dataset_BENG/short_clips/20211222125713/42/42_2.avi\n"
     ]
    },
    {
     "name": "stderr",
     "output_type": "stream",
     "text": [
      "  7%|█████▌                                                                             | 2/30 [00:00<00:07,  3.75it/s]"
     ]
    },
    {
     "name": "stdout",
     "output_type": "stream",
     "text": [
      "Moviepy - Building video D:/Dataset_BENG/short_clips/20211222125713/42/42_3.avi.\n",
      "Moviepy - Writing video D:/Dataset_BENG/short_clips/20211222125713/42/42_3.avi\n",
      "\n"
     ]
    },
    {
     "name": "stderr",
     "output_type": "stream",
     "text": [
      "\n",
      "t:   0%|                                                                              | 0/60 [00:00<?, ?it/s, now=None]\u001b[A\n",
      " 10%|████████▎                                                                          | 3/30 [00:00<00:08,  3.31it/s]\u001b[A"
     ]
    },
    {
     "name": "stdout",
     "output_type": "stream",
     "text": [
      "Moviepy - Done !\n",
      "Moviepy - video ready D:/Dataset_BENG/short_clips/20211222125713/42/42_3.avi\n"
     ]
    },
    {
     "name": "stderr",
     "output_type": "stream",
     "text": [
      " 10%|████████▎                                                                          | 3/30 [00:01<00:08,  3.31it/s]"
     ]
    },
    {
     "name": "stdout",
     "output_type": "stream",
     "text": [
      "Moviepy - Building video D:/Dataset_BENG/short_clips/20211222125713/42/42_4.avi.\n",
      "Moviepy - Writing video D:/Dataset_BENG/short_clips/20211222125713/42/42_4.avi\n",
      "\n"
     ]
    },
    {
     "name": "stderr",
     "output_type": "stream",
     "text": [
      "\n",
      "t:   0%|                                                                              | 0/60 [00:00<?, ?it/s, now=None]\u001b[A\n",
      " 13%|███████████                                                                        | 4/30 [00:01<00:08,  3.13it/s]\u001b[A"
     ]
    },
    {
     "name": "stdout",
     "output_type": "stream",
     "text": [
      "Moviepy - Done !\n",
      "Moviepy - video ready D:/Dataset_BENG/short_clips/20211222125713/42/42_4.avi\n"
     ]
    },
    {
     "name": "stderr",
     "output_type": "stream",
     "text": [
      " 13%|███████████                                                                        | 4/30 [00:01<00:08,  3.13it/s]"
     ]
    },
    {
     "name": "stdout",
     "output_type": "stream",
     "text": [
      "Moviepy - Building video D:/Dataset_BENG/short_clips/20211222125713/42/42_5.avi.\n",
      "Moviepy - Writing video D:/Dataset_BENG/short_clips/20211222125713/42/42_5.avi\n",
      "\n"
     ]
    },
    {
     "name": "stderr",
     "output_type": "stream",
     "text": [
      "\n",
      "t:   0%|                                                                              | 0/60 [00:00<?, ?it/s, now=None]\u001b[A\n",
      " 17%|█████████████▊                                                                     | 5/30 [00:01<00:08,  3.04it/s]\u001b[A"
     ]
    },
    {
     "name": "stdout",
     "output_type": "stream",
     "text": [
      "Moviepy - Done !\n",
      "Moviepy - video ready D:/Dataset_BENG/short_clips/20211222125713/42/42_5.avi\n"
     ]
    },
    {
     "name": "stderr",
     "output_type": "stream",
     "text": [
      " 17%|█████████████▊                                                                     | 5/30 [00:01<00:08,  3.04it/s]"
     ]
    },
    {
     "name": "stdout",
     "output_type": "stream",
     "text": [
      "Moviepy - Building video D:/Dataset_BENG/short_clips/20211222125713/42/42_6.avi.\n",
      "Moviepy - Writing video D:/Dataset_BENG/short_clips/20211222125713/42/42_6.avi\n",
      "\n"
     ]
    },
    {
     "name": "stderr",
     "output_type": "stream",
     "text": [
      "\n",
      "t:   0%|                                                                              | 0/60 [00:00<?, ?it/s, now=None]\u001b[A\n",
      " 20%|████████████████▌                                                                  | 6/30 [00:01<00:07,  3.03it/s]\u001b[A"
     ]
    },
    {
     "name": "stdout",
     "output_type": "stream",
     "text": [
      "Moviepy - Done !\n",
      "Moviepy - video ready D:/Dataset_BENG/short_clips/20211222125713/42/42_6.avi\n"
     ]
    },
    {
     "name": "stderr",
     "output_type": "stream",
     "text": [
      " 20%|████████████████▌                                                                  | 6/30 [00:02<00:07,  3.03it/s]"
     ]
    },
    {
     "name": "stdout",
     "output_type": "stream",
     "text": [
      "Moviepy - Building video D:/Dataset_BENG/short_clips/20211222125713/42/42_7.avi.\n",
      "Moviepy - Writing video D:/Dataset_BENG/short_clips/20211222125713/42/42_7.avi\n",
      "\n"
     ]
    },
    {
     "name": "stderr",
     "output_type": "stream",
     "text": [
      "\n",
      "t:   0%|                                                                              | 0/60 [00:00<?, ?it/s, now=None]\u001b[A\n",
      " 23%|███████████████████▎                                                               | 7/30 [00:02<00:07,  2.95it/s]\u001b[A"
     ]
    },
    {
     "name": "stdout",
     "output_type": "stream",
     "text": [
      "Moviepy - Done !\n",
      "Moviepy - video ready D:/Dataset_BENG/short_clips/20211222125713/42/42_7.avi\n"
     ]
    },
    {
     "name": "stderr",
     "output_type": "stream",
     "text": [
      " 23%|███████████████████▎                                                               | 7/30 [00:02<00:07,  2.95it/s]"
     ]
    },
    {
     "name": "stdout",
     "output_type": "stream",
     "text": [
      "Moviepy - Building video D:/Dataset_BENG/short_clips/20211222125713/42/42_8.avi.\n",
      "Moviepy - Writing video D:/Dataset_BENG/short_clips/20211222125713/42/42_8.avi\n",
      "\n"
     ]
    },
    {
     "name": "stderr",
     "output_type": "stream",
     "text": [
      "\n",
      "t:   0%|                                                                              | 0/60 [00:00<?, ?it/s, now=None]\u001b[A\n",
      " 27%|██████████████████████▏                                                            | 8/30 [00:02<00:07,  2.93it/s]\u001b[A"
     ]
    },
    {
     "name": "stdout",
     "output_type": "stream",
     "text": [
      "Moviepy - Done !\n",
      "Moviepy - video ready D:/Dataset_BENG/short_clips/20211222125713/42/42_8.avi\n"
     ]
    },
    {
     "name": "stderr",
     "output_type": "stream",
     "text": [
      " 27%|██████████████████████▏                                                            | 8/30 [00:02<00:07,  2.93it/s]"
     ]
    },
    {
     "name": "stdout",
     "output_type": "stream",
     "text": [
      "Moviepy - Building video D:/Dataset_BENG/short_clips/20211222125713/42/42_9.avi.\n",
      "Moviepy - Writing video D:/Dataset_BENG/short_clips/20211222125713/42/42_9.avi\n",
      "\n"
     ]
    },
    {
     "name": "stderr",
     "output_type": "stream",
     "text": [
      "\n",
      "t:   0%|                                                                              | 0/60 [00:00<?, ?it/s, now=None]\u001b[A\n",
      " 30%|████████████████████████▉                                                          | 9/30 [00:02<00:07,  2.88it/s]\u001b[A"
     ]
    },
    {
     "name": "stdout",
     "output_type": "stream",
     "text": [
      "Moviepy - Done !\n",
      "Moviepy - video ready D:/Dataset_BENG/short_clips/20211222125713/42/42_9.avi\n"
     ]
    },
    {
     "name": "stderr",
     "output_type": "stream",
     "text": [
      " 30%|████████████████████████▉                                                          | 9/30 [00:03<00:07,  2.88it/s]"
     ]
    },
    {
     "name": "stdout",
     "output_type": "stream",
     "text": [
      "Moviepy - Building video D:/Dataset_BENG/short_clips/20211222125713/42/42_10.avi.\n",
      "Moviepy - Writing video D:/Dataset_BENG/short_clips/20211222125713/42/42_10.avi\n",
      "\n"
     ]
    },
    {
     "name": "stderr",
     "output_type": "stream",
     "text": [
      "\n",
      "t:   0%|                                                                              | 0/60 [00:00<?, ?it/s, now=None]\u001b[A\n",
      " 33%|███████████████████████████▎                                                      | 10/30 [00:03<00:06,  2.89it/s]\u001b[A"
     ]
    },
    {
     "name": "stdout",
     "output_type": "stream",
     "text": [
      "Moviepy - Done !\n",
      "Moviepy - video ready D:/Dataset_BENG/short_clips/20211222125713/42/42_10.avi\n"
     ]
    },
    {
     "name": "stderr",
     "output_type": "stream",
     "text": [
      " 33%|███████████████████████████▎                                                      | 10/30 [00:03<00:06,  2.89it/s]"
     ]
    },
    {
     "name": "stdout",
     "output_type": "stream",
     "text": [
      "Moviepy - Building video D:/Dataset_BENG/short_clips/20211222125713/42/42_11.avi.\n",
      "Moviepy - Writing video D:/Dataset_BENG/short_clips/20211222125713/42/42_11.avi\n",
      "\n"
     ]
    },
    {
     "name": "stderr",
     "output_type": "stream",
     "text": [
      "\n",
      "t:   0%|                                                                              | 0/60 [00:00<?, ?it/s, now=None]\u001b[A\n",
      " 37%|██████████████████████████████                                                    | 11/30 [00:03<00:06,  2.91it/s]\u001b[A"
     ]
    },
    {
     "name": "stdout",
     "output_type": "stream",
     "text": [
      "Moviepy - Done !\n",
      "Moviepy - video ready D:/Dataset_BENG/short_clips/20211222125713/42/42_11.avi\n"
     ]
    },
    {
     "name": "stderr",
     "output_type": "stream",
     "text": [
      " 37%|██████████████████████████████                                                    | 11/30 [00:03<00:06,  2.91it/s]"
     ]
    },
    {
     "name": "stdout",
     "output_type": "stream",
     "text": [
      "Moviepy - Building video D:/Dataset_BENG/short_clips/20211222125713/42/42_12.avi.\n",
      "Moviepy - Writing video D:/Dataset_BENG/short_clips/20211222125713/42/42_12.avi\n",
      "\n"
     ]
    },
    {
     "name": "stderr",
     "output_type": "stream",
     "text": [
      "\n",
      "t:   0%|                                                                              | 0/60 [00:00<?, ?it/s, now=None]\u001b[A\n",
      " 40%|████████████████████████████████▊                                                 | 12/30 [00:04<00:06,  2.85it/s]\u001b[A"
     ]
    },
    {
     "name": "stdout",
     "output_type": "stream",
     "text": [
      "Moviepy - Done !\n",
      "Moviepy - video ready D:/Dataset_BENG/short_clips/20211222125713/42/42_12.avi\n"
     ]
    },
    {
     "name": "stderr",
     "output_type": "stream",
     "text": [
      " 40%|████████████████████████████████▊                                                 | 12/30 [00:04<00:06,  2.85it/s]"
     ]
    },
    {
     "name": "stdout",
     "output_type": "stream",
     "text": [
      "Moviepy - Building video D:/Dataset_BENG/short_clips/20211222125713/42/42_13.avi.\n",
      "Moviepy - Writing video D:/Dataset_BENG/short_clips/20211222125713/42/42_13.avi\n",
      "\n"
     ]
    },
    {
     "name": "stderr",
     "output_type": "stream",
     "text": [
      "\n",
      "t:   0%|                                                                              | 0/60 [00:00<?, ?it/s, now=None]\u001b[A\n",
      " 43%|███████████████████████████████████▌                                              | 13/30 [00:04<00:05,  2.86it/s]\u001b[A"
     ]
    },
    {
     "name": "stdout",
     "output_type": "stream",
     "text": [
      "Moviepy - Done !\n",
      "Moviepy - video ready D:/Dataset_BENG/short_clips/20211222125713/42/42_13.avi\n"
     ]
    },
    {
     "name": "stderr",
     "output_type": "stream",
     "text": [
      " 43%|███████████████████████████████████▌                                              | 13/30 [00:04<00:05,  2.86it/s]"
     ]
    },
    {
     "name": "stdout",
     "output_type": "stream",
     "text": [
      "Moviepy - Building video D:/Dataset_BENG/short_clips/20211222125713/42/42_14.avi.\n",
      "Moviepy - Writing video D:/Dataset_BENG/short_clips/20211222125713/42/42_14.avi\n",
      "\n"
     ]
    },
    {
     "name": "stderr",
     "output_type": "stream",
     "text": [
      "\n",
      "t:   0%|                                                                              | 0/60 [00:00<?, ?it/s, now=None]\u001b[A\n",
      " 47%|██████████████████████████████████████▎                                           | 14/30 [00:04<00:05,  2.91it/s]\u001b[A"
     ]
    },
    {
     "name": "stdout",
     "output_type": "stream",
     "text": [
      "Moviepy - Done !\n",
      "Moviepy - video ready D:/Dataset_BENG/short_clips/20211222125713/42/42_14.avi\n"
     ]
    },
    {
     "name": "stderr",
     "output_type": "stream",
     "text": [
      " 47%|██████████████████████████████████████▎                                           | 14/30 [00:04<00:05,  2.91it/s]"
     ]
    },
    {
     "name": "stdout",
     "output_type": "stream",
     "text": [
      "Moviepy - Building video D:/Dataset_BENG/short_clips/20211222125713/42/42_15.avi.\n",
      "Moviepy - Writing video D:/Dataset_BENG/short_clips/20211222125713/42/42_15.avi\n",
      "\n"
     ]
    },
    {
     "name": "stderr",
     "output_type": "stream",
     "text": [
      "\n",
      "t:   0%|                                                                              | 0/60 [00:00<?, ?it/s, now=None]\u001b[A\n",
      " 50%|█████████████████████████████████████████                                         | 15/30 [00:05<00:05,  2.87it/s]\u001b[A"
     ]
    },
    {
     "name": "stdout",
     "output_type": "stream",
     "text": [
      "Moviepy - Done !\n",
      "Moviepy - video ready D:/Dataset_BENG/short_clips/20211222125713/42/42_15.avi\n"
     ]
    },
    {
     "name": "stderr",
     "output_type": "stream",
     "text": [
      " 50%|█████████████████████████████████████████                                         | 15/30 [00:05<00:05,  2.87it/s]"
     ]
    },
    {
     "name": "stdout",
     "output_type": "stream",
     "text": [
      "Moviepy - Building video D:/Dataset_BENG/short_clips/20211222125713/42/42_16.avi.\n",
      "Moviepy - Writing video D:/Dataset_BENG/short_clips/20211222125713/42/42_16.avi\n",
      "\n"
     ]
    },
    {
     "name": "stderr",
     "output_type": "stream",
     "text": [
      "\n",
      "t:   0%|                                                                              | 0/60 [00:00<?, ?it/s, now=None]\u001b[A\n",
      " 53%|███████████████████████████████████████████▋                                      | 16/30 [00:05<00:04,  2.88it/s]\u001b[A"
     ]
    },
    {
     "name": "stdout",
     "output_type": "stream",
     "text": [
      "Moviepy - Done !\n",
      "Moviepy - video ready D:/Dataset_BENG/short_clips/20211222125713/42/42_16.avi\n"
     ]
    },
    {
     "name": "stderr",
     "output_type": "stream",
     "text": [
      " 53%|███████████████████████████████████████████▋                                      | 16/30 [00:05<00:04,  2.88it/s]"
     ]
    },
    {
     "name": "stdout",
     "output_type": "stream",
     "text": [
      "Moviepy - Building video D:/Dataset_BENG/short_clips/20211222125713/42/42_17.avi.\n",
      "Moviepy - Writing video D:/Dataset_BENG/short_clips/20211222125713/42/42_17.avi\n",
      "\n"
     ]
    },
    {
     "name": "stderr",
     "output_type": "stream",
     "text": [
      "\n",
      "t:   0%|                                                                              | 0/60 [00:00<?, ?it/s, now=None]\u001b[A\n",
      " 57%|██████████████████████████████████████████████▍                                   | 17/30 [00:05<00:04,  2.85it/s]\u001b[A"
     ]
    },
    {
     "name": "stdout",
     "output_type": "stream",
     "text": [
      "Moviepy - Done !\n",
      "Moviepy - video ready D:/Dataset_BENG/short_clips/20211222125713/42/42_17.avi\n"
     ]
    },
    {
     "name": "stderr",
     "output_type": "stream",
     "text": [
      " 57%|██████████████████████████████████████████████▍                                   | 17/30 [00:05<00:04,  2.85it/s]"
     ]
    },
    {
     "name": "stdout",
     "output_type": "stream",
     "text": [
      "Moviepy - Building video D:/Dataset_BENG/short_clips/20211222125713/42/42_18.avi.\n",
      "Moviepy - Writing video D:/Dataset_BENG/short_clips/20211222125713/42/42_18.avi\n",
      "\n"
     ]
    },
    {
     "name": "stderr",
     "output_type": "stream",
     "text": [
      "\n",
      "t:   0%|                                                                              | 0/60 [00:00<?, ?it/s, now=None]\u001b[A\n",
      " 60%|█████████████████████████████████████████████████▏                                | 18/30 [00:06<00:04,  2.86it/s]\u001b[A"
     ]
    },
    {
     "name": "stdout",
     "output_type": "stream",
     "text": [
      "Moviepy - Done !\n",
      "Moviepy - video ready D:/Dataset_BENG/short_clips/20211222125713/42/42_18.avi\n"
     ]
    },
    {
     "name": "stderr",
     "output_type": "stream",
     "text": [
      " 60%|█████████████████████████████████████████████████▏                                | 18/30 [00:06<00:04,  2.86it/s]"
     ]
    },
    {
     "name": "stdout",
     "output_type": "stream",
     "text": [
      "Moviepy - Building video D:/Dataset_BENG/short_clips/20211222125713/42/42_19.avi.\n",
      "Moviepy - Writing video D:/Dataset_BENG/short_clips/20211222125713/42/42_19.avi\n",
      "\n"
     ]
    },
    {
     "name": "stderr",
     "output_type": "stream",
     "text": [
      "\n",
      "t:   0%|                                                                              | 0/60 [00:00<?, ?it/s, now=None]\u001b[A\n",
      " 63%|███████████████████████████████████████████████████▉                              | 19/30 [00:06<00:03,  2.87it/s]\u001b[A"
     ]
    },
    {
     "name": "stdout",
     "output_type": "stream",
     "text": [
      "Moviepy - Done !\n",
      "Moviepy - video ready D:/Dataset_BENG/short_clips/20211222125713/42/42_19.avi\n"
     ]
    },
    {
     "name": "stderr",
     "output_type": "stream",
     "text": [
      " 63%|███████████████████████████████████████████████████▉                              | 19/30 [00:06<00:03,  2.87it/s]"
     ]
    },
    {
     "name": "stdout",
     "output_type": "stream",
     "text": [
      "Moviepy - Building video D:/Dataset_BENG/short_clips/20211222125713/42/42_20.avi.\n",
      "Moviepy - Writing video D:/Dataset_BENG/short_clips/20211222125713/42/42_20.avi\n",
      "\n"
     ]
    },
    {
     "name": "stderr",
     "output_type": "stream",
     "text": [
      "\n",
      "t:   0%|                                                                              | 0/60 [00:00<?, ?it/s, now=None]\u001b[A\n",
      " 67%|██████████████████████████████████████████████████████▋                           | 20/30 [00:06<00:03,  2.88it/s]\u001b[A"
     ]
    },
    {
     "name": "stdout",
     "output_type": "stream",
     "text": [
      "Moviepy - Done !\n",
      "Moviepy - video ready D:/Dataset_BENG/short_clips/20211222125713/42/42_20.avi\n"
     ]
    },
    {
     "name": "stderr",
     "output_type": "stream",
     "text": [
      " 67%|██████████████████████████████████████████████████████▋                           | 20/30 [00:07<00:03,  2.88it/s]"
     ]
    },
    {
     "name": "stdout",
     "output_type": "stream",
     "text": [
      "Moviepy - Building video D:/Dataset_BENG/short_clips/20211222125713/42/42_21.avi.\n",
      "Moviepy - Writing video D:/Dataset_BENG/short_clips/20211222125713/42/42_21.avi\n",
      "\n"
     ]
    },
    {
     "name": "stderr",
     "output_type": "stream",
     "text": [
      "\n",
      "t:   0%|                                                                              | 0/60 [00:00<?, ?it/s, now=None]\u001b[A\n",
      " 70%|█████████████████████████████████████████████████████████▍                        | 21/30 [00:07<00:03,  2.84it/s]\u001b[A"
     ]
    },
    {
     "name": "stdout",
     "output_type": "stream",
     "text": [
      "Moviepy - Done !\n",
      "Moviepy - video ready D:/Dataset_BENG/short_clips/20211222125713/42/42_21.avi\n"
     ]
    },
    {
     "name": "stderr",
     "output_type": "stream",
     "text": [
      " 70%|█████████████████████████████████████████████████████████▍                        | 21/30 [00:07<00:03,  2.84it/s]"
     ]
    },
    {
     "name": "stdout",
     "output_type": "stream",
     "text": [
      "Moviepy - Building video D:/Dataset_BENG/short_clips/20211222125713/42/42_22.avi.\n",
      "Moviepy - Writing video D:/Dataset_BENG/short_clips/20211222125713/42/42_22.avi\n",
      "\n"
     ]
    },
    {
     "name": "stderr",
     "output_type": "stream",
     "text": [
      "\n",
      "t:   0%|                                                                              | 0/60 [00:00<?, ?it/s, now=None]\u001b[A\n",
      " 73%|████████████████████████████████████████████████████████████▏                     | 22/30 [00:07<00:02,  2.86it/s]\u001b[A"
     ]
    },
    {
     "name": "stdout",
     "output_type": "stream",
     "text": [
      "Moviepy - Done !\n",
      "Moviepy - video ready D:/Dataset_BENG/short_clips/20211222125713/42/42_22.avi\n"
     ]
    },
    {
     "name": "stderr",
     "output_type": "stream",
     "text": [
      " 73%|████████████████████████████████████████████████████████████▏                     | 22/30 [00:07<00:02,  2.86it/s]"
     ]
    },
    {
     "name": "stdout",
     "output_type": "stream",
     "text": [
      "Moviepy - Building video D:/Dataset_BENG/short_clips/20211222125713/42/42_23.avi.\n",
      "Moviepy - Writing video D:/Dataset_BENG/short_clips/20211222125713/42/42_23.avi\n",
      "\n"
     ]
    },
    {
     "name": "stderr",
     "output_type": "stream",
     "text": [
      "\n",
      "t:   0%|                                                                              | 0/60 [00:00<?, ?it/s, now=None]\u001b[A\n",
      " 77%|██████████████████████████████████████████████████████████████▊                   | 23/30 [00:07<00:02,  2.91it/s]\u001b[A"
     ]
    },
    {
     "name": "stdout",
     "output_type": "stream",
     "text": [
      "Moviepy - Done !\n",
      "Moviepy - video ready D:/Dataset_BENG/short_clips/20211222125713/42/42_23.avi\n"
     ]
    },
    {
     "name": "stderr",
     "output_type": "stream",
     "text": [
      " 77%|██████████████████████████████████████████████████████████████▊                   | 23/30 [00:08<00:02,  2.91it/s]"
     ]
    },
    {
     "name": "stdout",
     "output_type": "stream",
     "text": [
      "Moviepy - Building video D:/Dataset_BENG/short_clips/20211222125713/42/42_24.avi.\n",
      "Moviepy - Writing video D:/Dataset_BENG/short_clips/20211222125713/42/42_24.avi\n",
      "\n"
     ]
    },
    {
     "name": "stderr",
     "output_type": "stream",
     "text": [
      "\n",
      "t:   0%|                                                                              | 0/60 [00:00<?, ?it/s, now=None]\u001b[A\n",
      " 80%|█████████████████████████████████████████████████████████████████▌                | 24/30 [00:08<00:02,  2.94it/s]\u001b[A"
     ]
    },
    {
     "name": "stdout",
     "output_type": "stream",
     "text": [
      "Moviepy - Done !\n",
      "Moviepy - video ready D:/Dataset_BENG/short_clips/20211222125713/42/42_24.avi\n"
     ]
    },
    {
     "name": "stderr",
     "output_type": "stream",
     "text": [
      " 80%|█████████████████████████████████████████████████████████████████▌                | 24/30 [00:08<00:02,  2.94it/s]"
     ]
    },
    {
     "name": "stdout",
     "output_type": "stream",
     "text": [
      "Moviepy - Building video D:/Dataset_BENG/short_clips/20211222125713/42/42_25.avi.\n",
      "Moviepy - Writing video D:/Dataset_BENG/short_clips/20211222125713/42/42_25.avi\n",
      "\n"
     ]
    },
    {
     "name": "stderr",
     "output_type": "stream",
     "text": [
      "\n",
      "t:   0%|                                                                              | 0/60 [00:00<?, ?it/s, now=None]\u001b[A\n",
      " 83%|████████████████████████████████████████████████████████████████████▎             | 25/30 [00:08<00:01,  2.92it/s]\u001b[A"
     ]
    },
    {
     "name": "stdout",
     "output_type": "stream",
     "text": [
      "Moviepy - Done !\n",
      "Moviepy - video ready D:/Dataset_BENG/short_clips/20211222125713/42/42_25.avi\n"
     ]
    },
    {
     "name": "stderr",
     "output_type": "stream",
     "text": [
      " 83%|████████████████████████████████████████████████████████████████████▎             | 25/30 [00:08<00:01,  2.92it/s]"
     ]
    },
    {
     "name": "stdout",
     "output_type": "stream",
     "text": [
      "Moviepy - Building video D:/Dataset_BENG/short_clips/20211222125713/42/42_26.avi.\n",
      "Moviepy - Writing video D:/Dataset_BENG/short_clips/20211222125713/42/42_26.avi\n",
      "\n"
     ]
    },
    {
     "name": "stderr",
     "output_type": "stream",
     "text": [
      "\n",
      "t:   0%|                                                                              | 0/60 [00:00<?, ?it/s, now=None]\u001b[A\n",
      " 87%|███████████████████████████████████████████████████████████████████████           | 26/30 [00:08<00:01,  2.91it/s]\u001b[A"
     ]
    },
    {
     "name": "stdout",
     "output_type": "stream",
     "text": [
      "Moviepy - Done !\n",
      "Moviepy - video ready D:/Dataset_BENG/short_clips/20211222125713/42/42_26.avi\n"
     ]
    },
    {
     "name": "stderr",
     "output_type": "stream",
     "text": [
      " 87%|███████████████████████████████████████████████████████████████████████           | 26/30 [00:09<00:01,  2.91it/s]"
     ]
    },
    {
     "name": "stdout",
     "output_type": "stream",
     "text": [
      "Moviepy - Building video D:/Dataset_BENG/short_clips/20211222125713/42/42_27.avi.\n",
      "Moviepy - Writing video D:/Dataset_BENG/short_clips/20211222125713/42/42_27.avi\n",
      "\n"
     ]
    },
    {
     "name": "stderr",
     "output_type": "stream",
     "text": [
      "\n",
      "t:   0%|                                                                              | 0/60 [00:00<?, ?it/s, now=None]\u001b[A\n",
      " 90%|█████████████████████████████████████████████████████████████████████████▊        | 27/30 [00:09<00:01,  2.94it/s]\u001b[A"
     ]
    },
    {
     "name": "stdout",
     "output_type": "stream",
     "text": [
      "Moviepy - Done !\n",
      "Moviepy - video ready D:/Dataset_BENG/short_clips/20211222125713/42/42_27.avi\n"
     ]
    },
    {
     "name": "stderr",
     "output_type": "stream",
     "text": [
      " 90%|█████████████████████████████████████████████████████████████████████████▊        | 27/30 [00:09<00:01,  2.94it/s]"
     ]
    },
    {
     "name": "stdout",
     "output_type": "stream",
     "text": [
      "Moviepy - Building video D:/Dataset_BENG/short_clips/20211222125713/42/42_28.avi.\n",
      "Moviepy - Writing video D:/Dataset_BENG/short_clips/20211222125713/42/42_28.avi\n",
      "\n"
     ]
    },
    {
     "name": "stderr",
     "output_type": "stream",
     "text": [
      "\n",
      "t:   0%|                                                                              | 0/60 [00:00<?, ?it/s, now=None]\u001b[A\n",
      " 93%|████████████████████████████████████████████████████████████████████████████▌     | 28/30 [00:09<00:00,  2.97it/s]\u001b[A"
     ]
    },
    {
     "name": "stdout",
     "output_type": "stream",
     "text": [
      "Moviepy - Done !\n",
      "Moviepy - video ready D:/Dataset_BENG/short_clips/20211222125713/42/42_28.avi\n"
     ]
    },
    {
     "name": "stderr",
     "output_type": "stream",
     "text": [
      " 93%|████████████████████████████████████████████████████████████████████████████▌     | 28/30 [00:09<00:00,  2.97it/s]"
     ]
    },
    {
     "name": "stdout",
     "output_type": "stream",
     "text": [
      "Moviepy - Building video D:/Dataset_BENG/short_clips/20211222125713/42/42_29.avi.\n",
      "Moviepy - Writing video D:/Dataset_BENG/short_clips/20211222125713/42/42_29.avi\n",
      "\n"
     ]
    },
    {
     "name": "stderr",
     "output_type": "stream",
     "text": [
      "\n",
      "t:   0%|                                                                              | 0/60 [00:00<?, ?it/s, now=None]\u001b[A\n",
      " 97%|███████████████████████████████████████████████████████████████████████████████▎  | 29/30 [00:09<00:00,  2.95it/s]\u001b[A"
     ]
    },
    {
     "name": "stdout",
     "output_type": "stream",
     "text": [
      "Moviepy - Done !\n",
      "Moviepy - video ready D:/Dataset_BENG/short_clips/20211222125713/42/42_29.avi\n"
     ]
    },
    {
     "name": "stderr",
     "output_type": "stream",
     "text": [
      " 97%|███████████████████████████████████████████████████████████████████████████████▎  | 29/30 [00:10<00:00,  2.95it/s]"
     ]
    },
    {
     "name": "stdout",
     "output_type": "stream",
     "text": [
      "Moviepy - Building video D:/Dataset_BENG/short_clips/20211222125713/42/42_30.avi.\n",
      "Moviepy - Writing video D:/Dataset_BENG/short_clips/20211222125713/42/42_30.avi\n",
      "\n"
     ]
    },
    {
     "name": "stderr",
     "output_type": "stream",
     "text": [
      "\n",
      "t:   0%|                                                                              | 0/60 [00:00<?, ?it/s, now=None]\u001b[A\n",
      "100%|██████████████████████████████████████████████████████████████████████████████████| 30/30 [00:10<00:00,  2.95it/s]\u001b[A\n"
     ]
    },
    {
     "name": "stdout",
     "output_type": "stream",
     "text": [
      "Moviepy - Done !\n",
      "Moviepy - video ready D:/Dataset_BENG/short_clips/20211222125713/42/42_30.avi\n"
     ]
    },
    {
     "name": "stderr",
     "output_type": "stream",
     "text": [
      "  0%|                                                                                           | 0/30 [00:00<?, ?it/s]"
     ]
    },
    {
     "name": "stdout",
     "output_type": "stream",
     "text": [
      "Moviepy - Building video D:/Dataset_BENG/short_clips/20211222125713/44/44_1.avi.\n",
      "Moviepy - Writing video D:/Dataset_BENG/short_clips/20211222125713/44/44_1.avi\n",
      "\n"
     ]
    },
    {
     "name": "stderr",
     "output_type": "stream",
     "text": [
      "\n",
      "t:   0%|                                                                              | 0/60 [00:00<?, ?it/s, now=None]\u001b[A\n",
      "  3%|██▊                                                                                | 1/30 [00:00<00:07,  3.86it/s]\u001b[A"
     ]
    },
    {
     "name": "stdout",
     "output_type": "stream",
     "text": [
      "Moviepy - Done !\n",
      "Moviepy - video ready D:/Dataset_BENG/short_clips/20211222125713/44/44_1.avi\n"
     ]
    },
    {
     "name": "stderr",
     "output_type": "stream",
     "text": [
      "  3%|██▊                                                                                | 1/30 [00:00<00:07,  3.86it/s]"
     ]
    },
    {
     "name": "stdout",
     "output_type": "stream",
     "text": [
      "Moviepy - Building video D:/Dataset_BENG/short_clips/20211222125713/44/44_2.avi.\n",
      "Moviepy - Writing video D:/Dataset_BENG/short_clips/20211222125713/44/44_2.avi\n",
      "\n"
     ]
    },
    {
     "name": "stderr",
     "output_type": "stream",
     "text": [
      "\n",
      "t:   0%|                                                                              | 0/60 [00:00<?, ?it/s, now=None]\u001b[A\n",
      "  7%|█████▌                                                                             | 2/30 [00:00<00:07,  3.89it/s]\u001b[A"
     ]
    },
    {
     "name": "stdout",
     "output_type": "stream",
     "text": [
      "Moviepy - Done !\n",
      "Moviepy - video ready D:/Dataset_BENG/short_clips/20211222125713/44/44_2.avi\n"
     ]
    },
    {
     "name": "stderr",
     "output_type": "stream",
     "text": [
      "  7%|█████▌                                                                             | 2/30 [00:00<00:07,  3.89it/s]"
     ]
    },
    {
     "name": "stdout",
     "output_type": "stream",
     "text": [
      "Moviepy - Building video D:/Dataset_BENG/short_clips/20211222125713/44/44_3.avi.\n",
      "Moviepy - Writing video D:/Dataset_BENG/short_clips/20211222125713/44/44_3.avi\n",
      "\n"
     ]
    },
    {
     "name": "stderr",
     "output_type": "stream",
     "text": [
      "\n",
      "t:   0%|                                                                              | 0/60 [00:00<?, ?it/s, now=None]\u001b[A\n",
      " 10%|████████▎                                                                          | 3/30 [00:00<00:08,  3.36it/s]\u001b[A"
     ]
    },
    {
     "name": "stdout",
     "output_type": "stream",
     "text": [
      "Moviepy - Done !\n",
      "Moviepy - video ready D:/Dataset_BENG/short_clips/20211222125713/44/44_3.avi\n"
     ]
    },
    {
     "name": "stderr",
     "output_type": "stream",
     "text": [
      " 10%|████████▎                                                                          | 3/30 [00:01<00:08,  3.36it/s]"
     ]
    },
    {
     "name": "stdout",
     "output_type": "stream",
     "text": [
      "Moviepy - Building video D:/Dataset_BENG/short_clips/20211222125713/44/44_4.avi.\n",
      "Moviepy - Writing video D:/Dataset_BENG/short_clips/20211222125713/44/44_4.avi\n",
      "\n"
     ]
    },
    {
     "name": "stderr",
     "output_type": "stream",
     "text": [
      "\n",
      "t:   0%|                                                                              | 0/60 [00:00<?, ?it/s, now=None]\u001b[A\n",
      " 13%|███████████                                                                        | 4/30 [00:01<00:08,  3.15it/s]\u001b[A"
     ]
    },
    {
     "name": "stdout",
     "output_type": "stream",
     "text": [
      "Moviepy - Done !\n",
      "Moviepy - video ready D:/Dataset_BENG/short_clips/20211222125713/44/44_4.avi\n"
     ]
    },
    {
     "name": "stderr",
     "output_type": "stream",
     "text": [
      " 13%|███████████                                                                        | 4/30 [00:01<00:08,  3.15it/s]"
     ]
    },
    {
     "name": "stdout",
     "output_type": "stream",
     "text": [
      "Moviepy - Building video D:/Dataset_BENG/short_clips/20211222125713/44/44_5.avi.\n",
      "Moviepy - Writing video D:/Dataset_BENG/short_clips/20211222125713/44/44_5.avi\n",
      "\n"
     ]
    },
    {
     "name": "stderr",
     "output_type": "stream",
     "text": [
      "\n",
      "t:   0%|                                                                              | 0/60 [00:00<?, ?it/s, now=None]\u001b[A\n",
      " 17%|█████████████▊                                                                     | 5/30 [00:01<00:07,  3.16it/s]\u001b[A"
     ]
    },
    {
     "name": "stdout",
     "output_type": "stream",
     "text": [
      "Moviepy - Done !\n",
      "Moviepy - video ready D:/Dataset_BENG/short_clips/20211222125713/44/44_5.avi\n"
     ]
    },
    {
     "name": "stderr",
     "output_type": "stream",
     "text": [
      " 17%|█████████████▊                                                                     | 5/30 [00:01<00:07,  3.16it/s]"
     ]
    },
    {
     "name": "stdout",
     "output_type": "stream",
     "text": [
      "Moviepy - Building video D:/Dataset_BENG/short_clips/20211222125713/44/44_6.avi.\n",
      "Moviepy - Writing video D:/Dataset_BENG/short_clips/20211222125713/44/44_6.avi\n",
      "\n"
     ]
    },
    {
     "name": "stderr",
     "output_type": "stream",
     "text": [
      "\n",
      "t:   0%|                                                                              | 0/60 [00:00<?, ?it/s, now=None]\u001b[A\n",
      " 20%|████████████████▌                                                                  | 6/30 [00:01<00:07,  3.16it/s]\u001b[A"
     ]
    },
    {
     "name": "stdout",
     "output_type": "stream",
     "text": [
      "Moviepy - Done !\n",
      "Moviepy - video ready D:/Dataset_BENG/short_clips/20211222125713/44/44_6.avi\n"
     ]
    },
    {
     "name": "stderr",
     "output_type": "stream",
     "text": [
      " 20%|████████████████▌                                                                  | 6/30 [00:02<00:07,  3.16it/s]"
     ]
    },
    {
     "name": "stdout",
     "output_type": "stream",
     "text": [
      "Moviepy - Building video D:/Dataset_BENG/short_clips/20211222125713/44/44_7.avi.\n",
      "Moviepy - Writing video D:/Dataset_BENG/short_clips/20211222125713/44/44_7.avi\n",
      "\n"
     ]
    },
    {
     "name": "stderr",
     "output_type": "stream",
     "text": [
      "\n",
      "t:   0%|                                                                              | 0/60 [00:00<?, ?it/s, now=None]\u001b[A\n",
      " 23%|███████████████████▎                                                               | 7/30 [00:02<00:07,  3.06it/s]\u001b[A"
     ]
    },
    {
     "name": "stdout",
     "output_type": "stream",
     "text": [
      "Moviepy - Done !\n",
      "Moviepy - video ready D:/Dataset_BENG/short_clips/20211222125713/44/44_7.avi\n"
     ]
    },
    {
     "name": "stderr",
     "output_type": "stream",
     "text": [
      " 23%|███████████████████▎                                                               | 7/30 [00:02<00:07,  3.06it/s]"
     ]
    },
    {
     "name": "stdout",
     "output_type": "stream",
     "text": [
      "Moviepy - Building video D:/Dataset_BENG/short_clips/20211222125713/44/44_8.avi.\n",
      "Moviepy - Writing video D:/Dataset_BENG/short_clips/20211222125713/44/44_8.avi\n",
      "\n"
     ]
    },
    {
     "name": "stderr",
     "output_type": "stream",
     "text": [
      "\n",
      "t:   0%|                                                                              | 0/60 [00:00<?, ?it/s, now=None]\u001b[A\n",
      " 27%|██████████████████████▏                                                            | 8/30 [00:02<00:07,  3.07it/s]\u001b[A"
     ]
    },
    {
     "name": "stdout",
     "output_type": "stream",
     "text": [
      "Moviepy - Done !\n",
      "Moviepy - video ready D:/Dataset_BENG/short_clips/20211222125713/44/44_8.avi\n"
     ]
    },
    {
     "name": "stderr",
     "output_type": "stream",
     "text": [
      " 27%|██████████████████████▏                                                            | 8/30 [00:02<00:07,  3.07it/s]"
     ]
    },
    {
     "name": "stdout",
     "output_type": "stream",
     "text": [
      "Moviepy - Building video D:/Dataset_BENG/short_clips/20211222125713/44/44_9.avi.\n",
      "Moviepy - Writing video D:/Dataset_BENG/short_clips/20211222125713/44/44_9.avi\n",
      "\n"
     ]
    },
    {
     "name": "stderr",
     "output_type": "stream",
     "text": [
      "\n",
      "t:   0%|                                                                              | 0/60 [00:00<?, ?it/s, now=None]\u001b[A\n",
      " 30%|████████████████████████▉                                                          | 9/30 [00:02<00:07,  3.00it/s]\u001b[A"
     ]
    },
    {
     "name": "stdout",
     "output_type": "stream",
     "text": [
      "Moviepy - Done !\n",
      "Moviepy - video ready D:/Dataset_BENG/short_clips/20211222125713/44/44_9.avi\n"
     ]
    },
    {
     "name": "stderr",
     "output_type": "stream",
     "text": [
      " 30%|████████████████████████▉                                                          | 9/30 [00:03<00:07,  3.00it/s]"
     ]
    },
    {
     "name": "stdout",
     "output_type": "stream",
     "text": [
      "Moviepy - Building video D:/Dataset_BENG/short_clips/20211222125713/44/44_10.avi.\n",
      "Moviepy - Writing video D:/Dataset_BENG/short_clips/20211222125713/44/44_10.avi\n",
      "\n"
     ]
    },
    {
     "name": "stderr",
     "output_type": "stream",
     "text": [
      "\n",
      "t:   0%|                                                                              | 0/60 [00:00<?, ?it/s, now=None]\u001b[A\n",
      " 33%|███████████████████████████▎                                                      | 10/30 [00:03<00:06,  2.97it/s]\u001b[A"
     ]
    },
    {
     "name": "stdout",
     "output_type": "stream",
     "text": [
      "Moviepy - Done !\n",
      "Moviepy - video ready D:/Dataset_BENG/short_clips/20211222125713/44/44_10.avi\n"
     ]
    },
    {
     "name": "stderr",
     "output_type": "stream",
     "text": [
      " 33%|███████████████████████████▎                                                      | 10/30 [00:03<00:06,  2.97it/s]"
     ]
    },
    {
     "name": "stdout",
     "output_type": "stream",
     "text": [
      "Moviepy - Building video D:/Dataset_BENG/short_clips/20211222125713/44/44_11.avi.\n",
      "Moviepy - Writing video D:/Dataset_BENG/short_clips/20211222125713/44/44_11.avi\n",
      "\n"
     ]
    },
    {
     "name": "stderr",
     "output_type": "stream",
     "text": [
      "\n",
      "t:   0%|                                                                              | 0/60 [00:00<?, ?it/s, now=None]\u001b[A\n",
      " 37%|██████████████████████████████                                                    | 11/30 [00:03<00:06,  3.00it/s]\u001b[A"
     ]
    },
    {
     "name": "stdout",
     "output_type": "stream",
     "text": [
      "Moviepy - Done !\n",
      "Moviepy - video ready D:/Dataset_BENG/short_clips/20211222125713/44/44_11.avi\n"
     ]
    },
    {
     "name": "stderr",
     "output_type": "stream",
     "text": [
      " 37%|██████████████████████████████                                                    | 11/30 [00:03<00:06,  3.00it/s]"
     ]
    },
    {
     "name": "stdout",
     "output_type": "stream",
     "text": [
      "Moviepy - Building video D:/Dataset_BENG/short_clips/20211222125713/44/44_12.avi.\n",
      "Moviepy - Writing video D:/Dataset_BENG/short_clips/20211222125713/44/44_12.avi\n",
      "\n"
     ]
    },
    {
     "name": "stderr",
     "output_type": "stream",
     "text": [
      "\n",
      "t:   0%|                                                                              | 0/60 [00:00<?, ?it/s, now=None]\u001b[A\n",
      " 40%|████████████████████████████████▊                                                 | 12/30 [00:03<00:06,  2.99it/s]\u001b[A"
     ]
    },
    {
     "name": "stdout",
     "output_type": "stream",
     "text": [
      "Moviepy - Done !\n",
      "Moviepy - video ready D:/Dataset_BENG/short_clips/20211222125713/44/44_12.avi\n"
     ]
    },
    {
     "name": "stderr",
     "output_type": "stream",
     "text": [
      " 40%|████████████████████████████████▊                                                 | 12/30 [00:04<00:06,  2.99it/s]"
     ]
    },
    {
     "name": "stdout",
     "output_type": "stream",
     "text": [
      "Moviepy - Building video D:/Dataset_BENG/short_clips/20211222125713/44/44_13.avi.\n",
      "Moviepy - Writing video D:/Dataset_BENG/short_clips/20211222125713/44/44_13.avi\n",
      "\n"
     ]
    },
    {
     "name": "stderr",
     "output_type": "stream",
     "text": [
      "\n",
      "t:   0%|                                                                              | 0/60 [00:00<?, ?it/s, now=None]\u001b[A\n",
      "t:   5%|███▌                                                                  | 3/60 [00:00<00:04, 12.24it/s, now=None]\u001b[A\n",
      " 43%|███████████████████████████████████▌                                              | 13/30 [00:04<00:06,  2.54it/s]\u001b[A"
     ]
    },
    {
     "name": "stdout",
     "output_type": "stream",
     "text": [
      "Moviepy - Done !\n",
      "Moviepy - video ready D:/Dataset_BENG/short_clips/20211222125713/44/44_13.avi\n"
     ]
    },
    {
     "name": "stderr",
     "output_type": "stream",
     "text": [
      " 43%|███████████████████████████████████▌                                              | 13/30 [00:04<00:06,  2.54it/s]"
     ]
    },
    {
     "name": "stdout",
     "output_type": "stream",
     "text": [
      "Moviepy - Building video D:/Dataset_BENG/short_clips/20211222125713/44/44_14.avi.\n",
      "Moviepy - Writing video D:/Dataset_BENG/short_clips/20211222125713/44/44_14.avi\n",
      "\n"
     ]
    },
    {
     "name": "stderr",
     "output_type": "stream",
     "text": [
      "\n",
      "t:   0%|                                                                              | 0/60 [00:00<?, ?it/s, now=None]\u001b[A\n",
      " 47%|██████████████████████████████████████▎                                           | 14/30 [00:04<00:06,  2.64it/s]\u001b[A"
     ]
    },
    {
     "name": "stdout",
     "output_type": "stream",
     "text": [
      "Moviepy - Done !\n",
      "Moviepy - video ready D:/Dataset_BENG/short_clips/20211222125713/44/44_14.avi\n"
     ]
    },
    {
     "name": "stderr",
     "output_type": "stream",
     "text": [
      " 47%|██████████████████████████████████████▎                                           | 14/30 [00:04<00:06,  2.64it/s]"
     ]
    },
    {
     "name": "stdout",
     "output_type": "stream",
     "text": [
      "Moviepy - Building video D:/Dataset_BENG/short_clips/20211222125713/44/44_15.avi.\n",
      "Moviepy - Writing video D:/Dataset_BENG/short_clips/20211222125713/44/44_15.avi\n",
      "\n"
     ]
    },
    {
     "name": "stderr",
     "output_type": "stream",
     "text": [
      "\n",
      "t:   0%|                                                                              | 0/60 [00:00<?, ?it/s, now=None]\u001b[A\n",
      " 50%|█████████████████████████████████████████                                         | 15/30 [00:05<00:05,  2.71it/s]\u001b[A"
     ]
    },
    {
     "name": "stdout",
     "output_type": "stream",
     "text": [
      "Moviepy - Done !\n",
      "Moviepy - video ready D:/Dataset_BENG/short_clips/20211222125713/44/44_15.avi\n"
     ]
    },
    {
     "name": "stderr",
     "output_type": "stream",
     "text": [
      " 50%|█████████████████████████████████████████                                         | 15/30 [00:05<00:05,  2.71it/s]"
     ]
    },
    {
     "name": "stdout",
     "output_type": "stream",
     "text": [
      "Moviepy - Building video D:/Dataset_BENG/short_clips/20211222125713/44/44_16.avi.\n",
      "Moviepy - Writing video D:/Dataset_BENG/short_clips/20211222125713/44/44_16.avi\n",
      "\n"
     ]
    },
    {
     "name": "stderr",
     "output_type": "stream",
     "text": [
      "\n",
      "t:   0%|                                                                              | 0/60 [00:00<?, ?it/s, now=None]\u001b[A\n",
      " 53%|███████████████████████████████████████████▋                                      | 16/30 [00:05<00:05,  2.76it/s]\u001b[A"
     ]
    },
    {
     "name": "stdout",
     "output_type": "stream",
     "text": [
      "Moviepy - Done !\n",
      "Moviepy - video ready D:/Dataset_BENG/short_clips/20211222125713/44/44_16.avi\n"
     ]
    },
    {
     "name": "stderr",
     "output_type": "stream",
     "text": [
      " 53%|███████████████████████████████████████████▋                                      | 16/30 [00:05<00:05,  2.76it/s]"
     ]
    },
    {
     "name": "stdout",
     "output_type": "stream",
     "text": [
      "Moviepy - Building video D:/Dataset_BENG/short_clips/20211222125713/44/44_17.avi.\n",
      "Moviepy - Writing video D:/Dataset_BENG/short_clips/20211222125713/44/44_17.avi\n",
      "\n"
     ]
    },
    {
     "name": "stderr",
     "output_type": "stream",
     "text": [
      "\n",
      "t:   0%|                                                                              | 0/60 [00:00<?, ?it/s, now=None]\u001b[A\n",
      " 57%|██████████████████████████████████████████████▍                                   | 17/30 [00:05<00:04,  2.79it/s]\u001b[A"
     ]
    },
    {
     "name": "stdout",
     "output_type": "stream",
     "text": [
      "Moviepy - Done !\n",
      "Moviepy - video ready D:/Dataset_BENG/short_clips/20211222125713/44/44_17.avi\n"
     ]
    },
    {
     "name": "stderr",
     "output_type": "stream",
     "text": [
      " 57%|██████████████████████████████████████████████▍                                   | 17/30 [00:06<00:04,  2.79it/s]"
     ]
    },
    {
     "name": "stdout",
     "output_type": "stream",
     "text": [
      "Moviepy - Building video D:/Dataset_BENG/short_clips/20211222125713/44/44_18.avi.\n",
      "Moviepy - Writing video D:/Dataset_BENG/short_clips/20211222125713/44/44_18.avi\n",
      "\n"
     ]
    },
    {
     "name": "stderr",
     "output_type": "stream",
     "text": [
      "\n",
      "t:   0%|                                                                              | 0/60 [00:00<?, ?it/s, now=None]\u001b[A\n",
      " 60%|█████████████████████████████████████████████████▏                                | 18/30 [00:06<00:04,  2.82it/s]\u001b[A"
     ]
    },
    {
     "name": "stdout",
     "output_type": "stream",
     "text": [
      "Moviepy - Done !\n",
      "Moviepy - video ready D:/Dataset_BENG/short_clips/20211222125713/44/44_18.avi\n"
     ]
    },
    {
     "name": "stderr",
     "output_type": "stream",
     "text": [
      " 60%|█████████████████████████████████████████████████▏                                | 18/30 [00:06<00:04,  2.82it/s]"
     ]
    },
    {
     "name": "stdout",
     "output_type": "stream",
     "text": [
      "Moviepy - Building video D:/Dataset_BENG/short_clips/20211222125713/44/44_19.avi.\n",
      "Moviepy - Writing video D:/Dataset_BENG/short_clips/20211222125713/44/44_19.avi\n",
      "\n"
     ]
    },
    {
     "name": "stderr",
     "output_type": "stream",
     "text": [
      "\n",
      "t:   0%|                                                                              | 0/60 [00:00<?, ?it/s, now=None]\u001b[A\n",
      " 63%|███████████████████████████████████████████████████▉                              | 19/30 [00:06<00:03,  2.84it/s]\u001b[A"
     ]
    },
    {
     "name": "stdout",
     "output_type": "stream",
     "text": [
      "Moviepy - Done !\n",
      "Moviepy - video ready D:/Dataset_BENG/short_clips/20211222125713/44/44_19.avi\n"
     ]
    },
    {
     "name": "stderr",
     "output_type": "stream",
     "text": [
      " 63%|███████████████████████████████████████████████████▉                              | 19/30 [00:06<00:03,  2.84it/s]"
     ]
    },
    {
     "name": "stdout",
     "output_type": "stream",
     "text": [
      "Moviepy - Building video D:/Dataset_BENG/short_clips/20211222125713/44/44_20.avi.\n",
      "Moviepy - Writing video D:/Dataset_BENG/short_clips/20211222125713/44/44_20.avi\n",
      "\n"
     ]
    },
    {
     "name": "stderr",
     "output_type": "stream",
     "text": [
      "\n",
      "t:   0%|                                                                              | 0/60 [00:00<?, ?it/s, now=None]\u001b[A\n",
      " 67%|██████████████████████████████████████████████████████▋                           | 20/30 [00:06<00:03,  2.86it/s]\u001b[A"
     ]
    },
    {
     "name": "stdout",
     "output_type": "stream",
     "text": [
      "Moviepy - Done !\n",
      "Moviepy - video ready D:/Dataset_BENG/short_clips/20211222125713/44/44_20.avi\n"
     ]
    },
    {
     "name": "stderr",
     "output_type": "stream",
     "text": [
      " 67%|██████████████████████████████████████████████████████▋                           | 20/30 [00:07<00:03,  2.86it/s]"
     ]
    },
    {
     "name": "stdout",
     "output_type": "stream",
     "text": [
      "Moviepy - Building video D:/Dataset_BENG/short_clips/20211222125713/44/44_21.avi.\n",
      "Moviepy - Writing video D:/Dataset_BENG/short_clips/20211222125713/44/44_21.avi\n",
      "\n"
     ]
    },
    {
     "name": "stderr",
     "output_type": "stream",
     "text": [
      "\n",
      "t:   0%|                                                                              | 0/60 [00:00<?, ?it/s, now=None]\u001b[A\n",
      " 70%|█████████████████████████████████████████████████████████▍                        | 21/30 [00:07<00:03,  2.87it/s]\u001b[A"
     ]
    },
    {
     "name": "stdout",
     "output_type": "stream",
     "text": [
      "Moviepy - Done !\n",
      "Moviepy - video ready D:/Dataset_BENG/short_clips/20211222125713/44/44_21.avi\n"
     ]
    },
    {
     "name": "stderr",
     "output_type": "stream",
     "text": [
      " 70%|█████████████████████████████████████████████████████████▍                        | 21/30 [00:07<00:03,  2.87it/s]"
     ]
    },
    {
     "name": "stdout",
     "output_type": "stream",
     "text": [
      "Moviepy - Building video D:/Dataset_BENG/short_clips/20211222125713/44/44_22.avi.\n",
      "Moviepy - Writing video D:/Dataset_BENG/short_clips/20211222125713/44/44_22.avi\n",
      "\n"
     ]
    },
    {
     "name": "stderr",
     "output_type": "stream",
     "text": [
      "\n",
      "t:   0%|                                                                              | 0/60 [00:00<?, ?it/s, now=None]\u001b[A\n",
      " 73%|████████████████████████████████████████████████████████████▏                     | 22/30 [00:07<00:02,  2.87it/s]\u001b[A"
     ]
    },
    {
     "name": "stdout",
     "output_type": "stream",
     "text": [
      "Moviepy - Done !\n",
      "Moviepy - video ready D:/Dataset_BENG/short_clips/20211222125713/44/44_22.avi\n"
     ]
    },
    {
     "name": "stderr",
     "output_type": "stream",
     "text": [
      " 73%|████████████████████████████████████████████████████████████▏                     | 22/30 [00:07<00:02,  2.87it/s]"
     ]
    },
    {
     "name": "stdout",
     "output_type": "stream",
     "text": [
      "Moviepy - Building video D:/Dataset_BENG/short_clips/20211222125713/44/44_23.avi.\n",
      "Moviepy - Writing video D:/Dataset_BENG/short_clips/20211222125713/44/44_23.avi\n",
      "\n"
     ]
    },
    {
     "name": "stderr",
     "output_type": "stream",
     "text": [
      "\n",
      "t:   0%|                                                                              | 0/60 [00:00<?, ?it/s, now=None]\u001b[A\n",
      " 77%|██████████████████████████████████████████████████████████████▊                   | 23/30 [00:07<00:02,  2.88it/s]\u001b[A"
     ]
    },
    {
     "name": "stdout",
     "output_type": "stream",
     "text": [
      "Moviepy - Done !\n",
      "Moviepy - video ready D:/Dataset_BENG/short_clips/20211222125713/44/44_23.avi\n"
     ]
    },
    {
     "name": "stderr",
     "output_type": "stream",
     "text": [
      " 77%|██████████████████████████████████████████████████████████████▊                   | 23/30 [00:08<00:02,  2.88it/s]"
     ]
    },
    {
     "name": "stdout",
     "output_type": "stream",
     "text": [
      "Moviepy - Building video D:/Dataset_BENG/short_clips/20211222125713/44/44_24.avi.\n",
      "Moviepy - Writing video D:/Dataset_BENG/short_clips/20211222125713/44/44_24.avi\n",
      "\n"
     ]
    },
    {
     "name": "stderr",
     "output_type": "stream",
     "text": [
      "\n",
      "t:   0%|                                                                              | 0/60 [00:00<?, ?it/s, now=None]\u001b[A\n",
      " 80%|█████████████████████████████████████████████████████████████████▌                | 24/30 [00:08<00:02,  2.88it/s]\u001b[A"
     ]
    },
    {
     "name": "stdout",
     "output_type": "stream",
     "text": [
      "Moviepy - Done !\n",
      "Moviepy - video ready D:/Dataset_BENG/short_clips/20211222125713/44/44_24.avi\n"
     ]
    },
    {
     "name": "stderr",
     "output_type": "stream",
     "text": [
      " 80%|█████████████████████████████████████████████████████████████████▌                | 24/30 [00:08<00:02,  2.88it/s]"
     ]
    },
    {
     "name": "stdout",
     "output_type": "stream",
     "text": [
      "Moviepy - Building video D:/Dataset_BENG/short_clips/20211222125713/44/44_25.avi.\n",
      "Moviepy - Writing video D:/Dataset_BENG/short_clips/20211222125713/44/44_25.avi\n",
      "\n"
     ]
    },
    {
     "name": "stderr",
     "output_type": "stream",
     "text": [
      "\n",
      "t:   0%|                                                                              | 0/60 [00:00<?, ?it/s, now=None]\u001b[A\n",
      " 83%|████████████████████████████████████████████████████████████████████▎             | 25/30 [00:08<00:01,  2.93it/s]\u001b[A"
     ]
    },
    {
     "name": "stdout",
     "output_type": "stream",
     "text": [
      "Moviepy - Done !\n",
      "Moviepy - video ready D:/Dataset_BENG/short_clips/20211222125713/44/44_25.avi\n"
     ]
    },
    {
     "name": "stderr",
     "output_type": "stream",
     "text": [
      " 83%|████████████████████████████████████████████████████████████████████▎             | 25/30 [00:08<00:01,  2.93it/s]"
     ]
    },
    {
     "name": "stdout",
     "output_type": "stream",
     "text": [
      "Moviepy - Building video D:/Dataset_BENG/short_clips/20211222125713/44/44_26.avi.\n",
      "Moviepy - Writing video D:/Dataset_BENG/short_clips/20211222125713/44/44_26.avi\n",
      "\n"
     ]
    },
    {
     "name": "stderr",
     "output_type": "stream",
     "text": [
      "\n",
      "t:   0%|                                                                              | 0/60 [00:00<?, ?it/s, now=None]\u001b[A\n",
      " 87%|███████████████████████████████████████████████████████████████████████           | 26/30 [00:08<00:01,  2.93it/s]\u001b[A"
     ]
    },
    {
     "name": "stdout",
     "output_type": "stream",
     "text": [
      "Moviepy - Done !\n",
      "Moviepy - video ready D:/Dataset_BENG/short_clips/20211222125713/44/44_26.avi\n"
     ]
    },
    {
     "name": "stderr",
     "output_type": "stream",
     "text": [
      " 87%|███████████████████████████████████████████████████████████████████████           | 26/30 [00:09<00:01,  2.93it/s]"
     ]
    },
    {
     "name": "stdout",
     "output_type": "stream",
     "text": [
      "Moviepy - Building video D:/Dataset_BENG/short_clips/20211222125713/44/44_27.avi.\n",
      "Moviepy - Writing video D:/Dataset_BENG/short_clips/20211222125713/44/44_27.avi\n",
      "\n"
     ]
    },
    {
     "name": "stderr",
     "output_type": "stream",
     "text": [
      "\n",
      "t:   0%|                                                                              | 0/60 [00:00<?, ?it/s, now=None]\u001b[A\n",
      " 90%|█████████████████████████████████████████████████████████████████████████▊        | 27/30 [00:09<00:01,  2.94it/s]\u001b[A"
     ]
    },
    {
     "name": "stdout",
     "output_type": "stream",
     "text": [
      "Moviepy - Done !\n",
      "Moviepy - video ready D:/Dataset_BENG/short_clips/20211222125713/44/44_27.avi\n"
     ]
    },
    {
     "name": "stderr",
     "output_type": "stream",
     "text": [
      " 90%|█████████████████████████████████████████████████████████████████████████▊        | 27/30 [00:09<00:01,  2.94it/s]"
     ]
    },
    {
     "name": "stdout",
     "output_type": "stream",
     "text": [
      "Moviepy - Building video D:/Dataset_BENG/short_clips/20211222125713/44/44_28.avi.\n",
      "Moviepy - Writing video D:/Dataset_BENG/short_clips/20211222125713/44/44_28.avi\n",
      "\n"
     ]
    },
    {
     "name": "stderr",
     "output_type": "stream",
     "text": [
      "\n",
      "t:   0%|                                                                              | 0/60 [00:00<?, ?it/s, now=None]\u001b[A\n",
      " 93%|████████████████████████████████████████████████████████████████████████████▌     | 28/30 [00:09<00:00,  3.00it/s]\u001b[A"
     ]
    },
    {
     "name": "stdout",
     "output_type": "stream",
     "text": [
      "Moviepy - Done !\n",
      "Moviepy - video ready D:/Dataset_BENG/short_clips/20211222125713/44/44_28.avi\n"
     ]
    },
    {
     "name": "stderr",
     "output_type": "stream",
     "text": [
      " 93%|████████████████████████████████████████████████████████████████████████████▌     | 28/30 [00:09<00:00,  3.00it/s]"
     ]
    },
    {
     "name": "stdout",
     "output_type": "stream",
     "text": [
      "Moviepy - Building video D:/Dataset_BENG/short_clips/20211222125713/44/44_29.avi.\n",
      "Moviepy - Writing video D:/Dataset_BENG/short_clips/20211222125713/44/44_29.avi\n",
      "\n"
     ]
    },
    {
     "name": "stderr",
     "output_type": "stream",
     "text": [
      "\n",
      "t:   0%|                                                                              | 0/60 [00:00<?, ?it/s, now=None]\u001b[A\n",
      " 97%|███████████████████████████████████████████████████████████████████████████████▎  | 29/30 [00:09<00:00,  2.97it/s]\u001b[A"
     ]
    },
    {
     "name": "stdout",
     "output_type": "stream",
     "text": [
      "Moviepy - Done !\n",
      "Moviepy - video ready D:/Dataset_BENG/short_clips/20211222125713/44/44_29.avi\n"
     ]
    },
    {
     "name": "stderr",
     "output_type": "stream",
     "text": [
      " 97%|███████████████████████████████████████████████████████████████████████████████▎  | 29/30 [00:10<00:00,  2.97it/s]"
     ]
    },
    {
     "name": "stdout",
     "output_type": "stream",
     "text": [
      "Moviepy - Building video D:/Dataset_BENG/short_clips/20211222125713/44/44_30.avi.\n",
      "Moviepy - Writing video D:/Dataset_BENG/short_clips/20211222125713/44/44_30.avi\n",
      "\n"
     ]
    },
    {
     "name": "stderr",
     "output_type": "stream",
     "text": [
      "\n",
      "t:   0%|                                                                              | 0/60 [00:00<?, ?it/s, now=None]\u001b[A\n",
      "t:   5%|███▌                                                                  | 3/60 [00:00<00:02, 22.11it/s, now=None]\u001b[A\n",
      "100%|██████████████████████████████████████████████████████████████████████████████████| 30/30 [00:10<00:00,  2.92it/s]\u001b[A\n"
     ]
    },
    {
     "name": "stdout",
     "output_type": "stream",
     "text": [
      "Moviepy - Done !\n",
      "Moviepy - video ready D:/Dataset_BENG/short_clips/20211222125713/44/44_30.avi\n"
     ]
    },
    {
     "name": "stderr",
     "output_type": "stream",
     "text": [
      "  0%|                                                                                           | 0/30 [00:00<?, ?it/s]"
     ]
    },
    {
     "name": "stdout",
     "output_type": "stream",
     "text": [
      "Moviepy - Building video D:/Dataset_BENG/short_clips/20211222125713/68/68_1.avi.\n",
      "Moviepy - Writing video D:/Dataset_BENG/short_clips/20211222125713/68/68_1.avi\n",
      "\n"
     ]
    },
    {
     "name": "stderr",
     "output_type": "stream",
     "text": [
      "\n",
      "t:   0%|                                                                              | 0/60 [00:00<?, ?it/s, now=None]\u001b[A\n",
      "  3%|██▊                                                                                | 1/30 [00:00<00:07,  3.97it/s]\u001b[A"
     ]
    },
    {
     "name": "stdout",
     "output_type": "stream",
     "text": [
      "Moviepy - Done !\n",
      "Moviepy - video ready D:/Dataset_BENG/short_clips/20211222125713/68/68_1.avi\n"
     ]
    },
    {
     "name": "stderr",
     "output_type": "stream",
     "text": [
      "  3%|██▊                                                                                | 1/30 [00:00<00:07,  3.97it/s]"
     ]
    },
    {
     "name": "stdout",
     "output_type": "stream",
     "text": [
      "Moviepy - Building video D:/Dataset_BENG/short_clips/20211222125713/68/68_2.avi.\n",
      "Moviepy - Writing video D:/Dataset_BENG/short_clips/20211222125713/68/68_2.avi\n",
      "\n"
     ]
    },
    {
     "name": "stderr",
     "output_type": "stream",
     "text": [
      "\n",
      "t:   0%|                                                                              | 0/60 [00:00<?, ?it/s, now=None]\u001b[A\n",
      "  7%|█████▌                                                                             | 2/30 [00:00<00:07,  3.94it/s]\u001b[A"
     ]
    },
    {
     "name": "stdout",
     "output_type": "stream",
     "text": [
      "Moviepy - Done !\n",
      "Moviepy - video ready D:/Dataset_BENG/short_clips/20211222125713/68/68_2.avi\n"
     ]
    },
    {
     "name": "stderr",
     "output_type": "stream",
     "text": [
      "  7%|█████▌                                                                             | 2/30 [00:00<00:07,  3.94it/s]"
     ]
    },
    {
     "name": "stdout",
     "output_type": "stream",
     "text": [
      "Moviepy - Building video D:/Dataset_BENG/short_clips/20211222125713/68/68_3.avi.\n",
      "Moviepy - Writing video D:/Dataset_BENG/short_clips/20211222125713/68/68_3.avi\n",
      "\n"
     ]
    },
    {
     "name": "stderr",
     "output_type": "stream",
     "text": [
      "\n",
      "t:   0%|                                                                              | 0/60 [00:00<?, ?it/s, now=None]\u001b[A\n",
      " 10%|████████▎                                                                          | 3/30 [00:00<00:08,  3.37it/s]\u001b[A"
     ]
    },
    {
     "name": "stdout",
     "output_type": "stream",
     "text": [
      "Moviepy - Done !\n",
      "Moviepy - video ready D:/Dataset_BENG/short_clips/20211222125713/68/68_3.avi\n"
     ]
    },
    {
     "name": "stderr",
     "output_type": "stream",
     "text": [
      " 10%|████████▎                                                                          | 3/30 [00:01<00:08,  3.37it/s]"
     ]
    },
    {
     "name": "stdout",
     "output_type": "stream",
     "text": [
      "Moviepy - Building video D:/Dataset_BENG/short_clips/20211222125713/68/68_4.avi.\n",
      "Moviepy - Writing video D:/Dataset_BENG/short_clips/20211222125713/68/68_4.avi\n",
      "\n"
     ]
    },
    {
     "name": "stderr",
     "output_type": "stream",
     "text": [
      "\n",
      "t:   0%|                                                                              | 0/60 [00:00<?, ?it/s, now=None]\u001b[A\n",
      " 13%|███████████                                                                        | 4/30 [00:01<00:08,  3.16it/s]\u001b[A"
     ]
    },
    {
     "name": "stdout",
     "output_type": "stream",
     "text": [
      "Moviepy - Done !\n",
      "Moviepy - video ready D:/Dataset_BENG/short_clips/20211222125713/68/68_4.avi\n"
     ]
    },
    {
     "name": "stderr",
     "output_type": "stream",
     "text": [
      " 13%|███████████                                                                        | 4/30 [00:01<00:08,  3.16it/s]"
     ]
    },
    {
     "name": "stdout",
     "output_type": "stream",
     "text": [
      "Moviepy - Building video D:/Dataset_BENG/short_clips/20211222125713/68/68_5.avi.\n",
      "Moviepy - Writing video D:/Dataset_BENG/short_clips/20211222125713/68/68_5.avi\n",
      "\n"
     ]
    },
    {
     "name": "stderr",
     "output_type": "stream",
     "text": [
      "\n",
      "t:   0%|                                                                              | 0/60 [00:00<?, ?it/s, now=None]\u001b[A\n",
      " 17%|█████████████▊                                                                     | 5/30 [00:01<00:08,  3.06it/s]\u001b[A"
     ]
    },
    {
     "name": "stdout",
     "output_type": "stream",
     "text": [
      "Moviepy - Done !\n",
      "Moviepy - video ready D:/Dataset_BENG/short_clips/20211222125713/68/68_5.avi\n"
     ]
    },
    {
     "name": "stderr",
     "output_type": "stream",
     "text": [
      " 17%|█████████████▊                                                                     | 5/30 [00:01<00:08,  3.06it/s]"
     ]
    },
    {
     "name": "stdout",
     "output_type": "stream",
     "text": [
      "Moviepy - Building video D:/Dataset_BENG/short_clips/20211222125713/68/68_6.avi.\n",
      "Moviepy - Writing video D:/Dataset_BENG/short_clips/20211222125713/68/68_6.avi\n",
      "\n"
     ]
    },
    {
     "name": "stderr",
     "output_type": "stream",
     "text": [
      "\n",
      "t:   0%|                                                                              | 0/60 [00:00<?, ?it/s, now=None]\u001b[A\n",
      " 20%|████████████████▌                                                                  | 6/30 [00:01<00:08,  3.00it/s]\u001b[A"
     ]
    },
    {
     "name": "stdout",
     "output_type": "stream",
     "text": [
      "Moviepy - Done !\n",
      "Moviepy - video ready D:/Dataset_BENG/short_clips/20211222125713/68/68_6.avi\n"
     ]
    },
    {
     "name": "stderr",
     "output_type": "stream",
     "text": [
      " 20%|████████████████▌                                                                  | 6/30 [00:02<00:08,  3.00it/s]"
     ]
    },
    {
     "name": "stdout",
     "output_type": "stream",
     "text": [
      "Moviepy - Building video D:/Dataset_BENG/short_clips/20211222125713/68/68_7.avi.\n",
      "Moviepy - Writing video D:/Dataset_BENG/short_clips/20211222125713/68/68_7.avi\n",
      "\n"
     ]
    },
    {
     "name": "stderr",
     "output_type": "stream",
     "text": [
      "\n",
      "t:   0%|                                                                              | 0/60 [00:00<?, ?it/s, now=None]\u001b[A\n",
      " 23%|███████████████████▎                                                               | 7/30 [00:02<00:07,  2.96it/s]\u001b[A"
     ]
    },
    {
     "name": "stdout",
     "output_type": "stream",
     "text": [
      "Moviepy - Done !\n",
      "Moviepy - video ready D:/Dataset_BENG/short_clips/20211222125713/68/68_7.avi\n"
     ]
    },
    {
     "name": "stderr",
     "output_type": "stream",
     "text": [
      " 23%|███████████████████▎                                                               | 7/30 [00:02<00:07,  2.96it/s]"
     ]
    },
    {
     "name": "stdout",
     "output_type": "stream",
     "text": [
      "Moviepy - Building video D:/Dataset_BENG/short_clips/20211222125713/68/68_8.avi.\n",
      "Moviepy - Writing video D:/Dataset_BENG/short_clips/20211222125713/68/68_8.avi\n",
      "\n"
     ]
    },
    {
     "name": "stderr",
     "output_type": "stream",
     "text": [
      "\n",
      "t:   0%|                                                                              | 0/60 [00:00<?, ?it/s, now=None]\u001b[A\n",
      " 27%|██████████████████████▏                                                            | 8/30 [00:02<00:08,  2.75it/s]\u001b[A"
     ]
    },
    {
     "name": "stdout",
     "output_type": "stream",
     "text": [
      "Moviepy - Done !\n",
      "Moviepy - video ready D:/Dataset_BENG/short_clips/20211222125713/68/68_8.avi\n"
     ]
    },
    {
     "name": "stderr",
     "output_type": "stream",
     "text": [
      " 27%|██████████████████████▏                                                            | 8/30 [00:02<00:08,  2.75it/s]"
     ]
    },
    {
     "name": "stdout",
     "output_type": "stream",
     "text": [
      "Moviepy - Building video D:/Dataset_BENG/short_clips/20211222125713/68/68_9.avi.\n",
      "Moviepy - Writing video D:/Dataset_BENG/short_clips/20211222125713/68/68_9.avi\n",
      "\n"
     ]
    },
    {
     "name": "stderr",
     "output_type": "stream",
     "text": [
      "\n",
      "t:   0%|                                                                              | 0/60 [00:00<?, ?it/s, now=None]\u001b[A\n",
      " 30%|████████████████████████▉                                                          | 9/30 [00:03<00:07,  2.79it/s]\u001b[A"
     ]
    },
    {
     "name": "stdout",
     "output_type": "stream",
     "text": [
      "Moviepy - Done !\n",
      "Moviepy - video ready D:/Dataset_BENG/short_clips/20211222125713/68/68_9.avi\n"
     ]
    },
    {
     "name": "stderr",
     "output_type": "stream",
     "text": [
      " 30%|████████████████████████▉                                                          | 9/30 [00:03<00:07,  2.79it/s]"
     ]
    },
    {
     "name": "stdout",
     "output_type": "stream",
     "text": [
      "Moviepy - Building video D:/Dataset_BENG/short_clips/20211222125713/68/68_10.avi.\n",
      "Moviepy - Writing video D:/Dataset_BENG/short_clips/20211222125713/68/68_10.avi\n",
      "\n"
     ]
    },
    {
     "name": "stderr",
     "output_type": "stream",
     "text": [
      "\n",
      "t:   0%|                                                                              | 0/60 [00:00<?, ?it/s, now=None]\u001b[A\n",
      " 33%|███████████████████████████▎                                                      | 10/30 [00:03<00:07,  2.82it/s]\u001b[A"
     ]
    },
    {
     "name": "stdout",
     "output_type": "stream",
     "text": [
      "Moviepy - Done !\n",
      "Moviepy - video ready D:/Dataset_BENG/short_clips/20211222125713/68/68_10.avi\n"
     ]
    },
    {
     "name": "stderr",
     "output_type": "stream",
     "text": [
      " 33%|███████████████████████████▎                                                      | 10/30 [00:03<00:07,  2.82it/s]"
     ]
    },
    {
     "name": "stdout",
     "output_type": "stream",
     "text": [
      "Moviepy - Building video D:/Dataset_BENG/short_clips/20211222125713/68/68_11.avi.\n",
      "Moviepy - Writing video D:/Dataset_BENG/short_clips/20211222125713/68/68_11.avi\n",
      "\n"
     ]
    },
    {
     "name": "stderr",
     "output_type": "stream",
     "text": [
      "\n",
      "t:   0%|                                                                              | 0/60 [00:00<?, ?it/s, now=None]\u001b[A\n",
      " 37%|██████████████████████████████                                                    | 11/30 [00:03<00:06,  2.84it/s]\u001b[A"
     ]
    },
    {
     "name": "stdout",
     "output_type": "stream",
     "text": [
      "Moviepy - Done !\n",
      "Moviepy - video ready D:/Dataset_BENG/short_clips/20211222125713/68/68_11.avi\n"
     ]
    },
    {
     "name": "stderr",
     "output_type": "stream",
     "text": [
      " 37%|██████████████████████████████                                                    | 11/30 [00:03<00:06,  2.84it/s]"
     ]
    },
    {
     "name": "stdout",
     "output_type": "stream",
     "text": [
      "Moviepy - Building video D:/Dataset_BENG/short_clips/20211222125713/68/68_12.avi.\n",
      "Moviepy - Writing video D:/Dataset_BENG/short_clips/20211222125713/68/68_12.avi\n",
      "\n"
     ]
    },
    {
     "name": "stderr",
     "output_type": "stream",
     "text": [
      "\n",
      "t:   0%|                                                                              | 0/60 [00:00<?, ?it/s, now=None]\u001b[A\n",
      " 40%|████████████████████████████████▊                                                 | 12/30 [00:04<00:06,  2.85it/s]\u001b[A"
     ]
    },
    {
     "name": "stdout",
     "output_type": "stream",
     "text": [
      "Moviepy - Done !\n",
      "Moviepy - video ready D:/Dataset_BENG/short_clips/20211222125713/68/68_12.avi\n"
     ]
    },
    {
     "name": "stderr",
     "output_type": "stream",
     "text": [
      " 40%|████████████████████████████████▊                                                 | 12/30 [00:04<00:06,  2.85it/s]"
     ]
    },
    {
     "name": "stdout",
     "output_type": "stream",
     "text": [
      "Moviepy - Building video D:/Dataset_BENG/short_clips/20211222125713/68/68_13.avi.\n",
      "Moviepy - Writing video D:/Dataset_BENG/short_clips/20211222125713/68/68_13.avi\n",
      "\n"
     ]
    },
    {
     "name": "stderr",
     "output_type": "stream",
     "text": [
      "\n",
      "t:   0%|                                                                              | 0/60 [00:00<?, ?it/s, now=None]\u001b[A\n",
      " 43%|███████████████████████████████████▌                                              | 13/30 [00:04<00:05,  2.86it/s]\u001b[A"
     ]
    },
    {
     "name": "stdout",
     "output_type": "stream",
     "text": [
      "Moviepy - Done !\n",
      "Moviepy - video ready D:/Dataset_BENG/short_clips/20211222125713/68/68_13.avi\n"
     ]
    },
    {
     "name": "stderr",
     "output_type": "stream",
     "text": [
      " 43%|███████████████████████████████████▌                                              | 13/30 [00:04<00:05,  2.86it/s]"
     ]
    },
    {
     "name": "stdout",
     "output_type": "stream",
     "text": [
      "Moviepy - Building video D:/Dataset_BENG/short_clips/20211222125713/68/68_14.avi.\n",
      "Moviepy - Writing video D:/Dataset_BENG/short_clips/20211222125713/68/68_14.avi\n",
      "\n"
     ]
    },
    {
     "name": "stderr",
     "output_type": "stream",
     "text": [
      "\n",
      "t:   0%|                                                                              | 0/60 [00:00<?, ?it/s, now=None]\u001b[A\n",
      " 47%|██████████████████████████████████████▎                                           | 14/30 [00:04<00:05,  2.87it/s]\u001b[A"
     ]
    },
    {
     "name": "stdout",
     "output_type": "stream",
     "text": [
      "Moviepy - Done !\n",
      "Moviepy - video ready D:/Dataset_BENG/short_clips/20211222125713/68/68_14.avi\n"
     ]
    },
    {
     "name": "stderr",
     "output_type": "stream",
     "text": [
      " 47%|██████████████████████████████████████▎                                           | 14/30 [00:04<00:05,  2.87it/s]"
     ]
    },
    {
     "name": "stdout",
     "output_type": "stream",
     "text": [
      "Moviepy - Building video D:/Dataset_BENG/short_clips/20211222125713/68/68_15.avi.\n",
      "Moviepy - Writing video D:/Dataset_BENG/short_clips/20211222125713/68/68_15.avi\n",
      "\n"
     ]
    },
    {
     "name": "stderr",
     "output_type": "stream",
     "text": [
      "\n",
      "t:   0%|                                                                              | 0/60 [00:00<?, ?it/s, now=None]\u001b[A\n",
      " 50%|█████████████████████████████████████████                                         | 15/30 [00:05<00:05,  2.88it/s]\u001b[A"
     ]
    },
    {
     "name": "stdout",
     "output_type": "stream",
     "text": [
      "Moviepy - Done !\n",
      "Moviepy - video ready D:/Dataset_BENG/short_clips/20211222125713/68/68_15.avi\n"
     ]
    },
    {
     "name": "stderr",
     "output_type": "stream",
     "text": [
      " 50%|█████████████████████████████████████████                                         | 15/30 [00:05<00:05,  2.88it/s]"
     ]
    },
    {
     "name": "stdout",
     "output_type": "stream",
     "text": [
      "Moviepy - Building video D:/Dataset_BENG/short_clips/20211222125713/68/68_16.avi.\n",
      "Moviepy - Writing video D:/Dataset_BENG/short_clips/20211222125713/68/68_16.avi\n",
      "\n"
     ]
    },
    {
     "name": "stderr",
     "output_type": "stream",
     "text": [
      "\n",
      "t:   0%|                                                                              | 0/60 [00:00<?, ?it/s, now=None]\u001b[A\n",
      " 53%|███████████████████████████████████████████▋                                      | 16/30 [00:05<00:04,  2.88it/s]\u001b[A"
     ]
    },
    {
     "name": "stdout",
     "output_type": "stream",
     "text": [
      "Moviepy - Done !\n",
      "Moviepy - video ready D:/Dataset_BENG/short_clips/20211222125713/68/68_16.avi\n"
     ]
    },
    {
     "name": "stderr",
     "output_type": "stream",
     "text": [
      " 53%|███████████████████████████████████████████▋                                      | 16/30 [00:05<00:04,  2.88it/s]"
     ]
    },
    {
     "name": "stdout",
     "output_type": "stream",
     "text": [
      "Moviepy - Building video D:/Dataset_BENG/short_clips/20211222125713/68/68_17.avi.\n",
      "Moviepy - Writing video D:/Dataset_BENG/short_clips/20211222125713/68/68_17.avi\n",
      "\n"
     ]
    },
    {
     "name": "stderr",
     "output_type": "stream",
     "text": [
      "\n",
      "t:   0%|                                                                              | 0/60 [00:00<?, ?it/s, now=None]\u001b[A\n",
      " 57%|██████████████████████████████████████████████▍                                   | 17/30 [00:05<00:04,  2.88it/s]\u001b[A"
     ]
    },
    {
     "name": "stdout",
     "output_type": "stream",
     "text": [
      "Moviepy - Done !\n",
      "Moviepy - video ready D:/Dataset_BENG/short_clips/20211222125713/68/68_17.avi\n"
     ]
    },
    {
     "name": "stderr",
     "output_type": "stream",
     "text": [
      " 57%|██████████████████████████████████████████████▍                                   | 17/30 [00:06<00:04,  2.88it/s]"
     ]
    },
    {
     "name": "stdout",
     "output_type": "stream",
     "text": [
      "Moviepy - Building video D:/Dataset_BENG/short_clips/20211222125713/68/68_18.avi.\n",
      "Moviepy - Writing video D:/Dataset_BENG/short_clips/20211222125713/68/68_18.avi\n",
      "\n"
     ]
    },
    {
     "name": "stderr",
     "output_type": "stream",
     "text": [
      "\n",
      "t:   0%|                                                                              | 0/60 [00:00<?, ?it/s, now=None]\u001b[A\n",
      " 60%|█████████████████████████████████████████████████▏                                | 18/30 [00:06<00:04,  2.88it/s]\u001b[A"
     ]
    },
    {
     "name": "stdout",
     "output_type": "stream",
     "text": [
      "Moviepy - Done !\n",
      "Moviepy - video ready D:/Dataset_BENG/short_clips/20211222125713/68/68_18.avi\n"
     ]
    },
    {
     "name": "stderr",
     "output_type": "stream",
     "text": [
      " 60%|█████████████████████████████████████████████████▏                                | 18/30 [00:06<00:04,  2.88it/s]"
     ]
    },
    {
     "name": "stdout",
     "output_type": "stream",
     "text": [
      "Moviepy - Building video D:/Dataset_BENG/short_clips/20211222125713/68/68_19.avi.\n",
      "Moviepy - Writing video D:/Dataset_BENG/short_clips/20211222125713/68/68_19.avi\n",
      "\n"
     ]
    },
    {
     "name": "stderr",
     "output_type": "stream",
     "text": [
      "\n",
      "t:   0%|                                                                              | 0/60 [00:00<?, ?it/s, now=None]\u001b[A\n",
      " 63%|███████████████████████████████████████████████████▉                              | 19/30 [00:06<00:03,  2.88it/s]\u001b[A"
     ]
    },
    {
     "name": "stdout",
     "output_type": "stream",
     "text": [
      "Moviepy - Done !\n",
      "Moviepy - video ready D:/Dataset_BENG/short_clips/20211222125713/68/68_19.avi\n"
     ]
    },
    {
     "name": "stderr",
     "output_type": "stream",
     "text": [
      " 63%|███████████████████████████████████████████████████▉                              | 19/30 [00:06<00:03,  2.88it/s]"
     ]
    },
    {
     "name": "stdout",
     "output_type": "stream",
     "text": [
      "Moviepy - Building video D:/Dataset_BENG/short_clips/20211222125713/68/68_20.avi.\n",
      "Moviepy - Writing video D:/Dataset_BENG/short_clips/20211222125713/68/68_20.avi\n",
      "\n"
     ]
    },
    {
     "name": "stderr",
     "output_type": "stream",
     "text": [
      "\n",
      "t:   0%|                                                                              | 0/60 [00:00<?, ?it/s, now=None]\u001b[A\n",
      " 67%|██████████████████████████████████████████████████████▋                           | 20/30 [00:06<00:03,  2.92it/s]\u001b[A"
     ]
    },
    {
     "name": "stdout",
     "output_type": "stream",
     "text": [
      "Moviepy - Done !\n",
      "Moviepy - video ready D:/Dataset_BENG/short_clips/20211222125713/68/68_20.avi\n"
     ]
    },
    {
     "name": "stderr",
     "output_type": "stream",
     "text": [
      " 67%|██████████████████████████████████████████████████████▋                           | 20/30 [00:07<00:03,  2.92it/s]"
     ]
    },
    {
     "name": "stdout",
     "output_type": "stream",
     "text": [
      "Moviepy - Building video D:/Dataset_BENG/short_clips/20211222125713/68/68_21.avi.\n",
      "Moviepy - Writing video D:/Dataset_BENG/short_clips/20211222125713/68/68_21.avi\n",
      "\n"
     ]
    },
    {
     "name": "stderr",
     "output_type": "stream",
     "text": [
      "\n",
      "t:   0%|                                                                              | 0/60 [00:00<?, ?it/s, now=None]\u001b[A\n",
      " 70%|█████████████████████████████████████████████████████████▍                        | 21/30 [00:07<00:03,  2.92it/s]\u001b[A"
     ]
    },
    {
     "name": "stdout",
     "output_type": "stream",
     "text": [
      "Moviepy - Done !\n",
      "Moviepy - video ready D:/Dataset_BENG/short_clips/20211222125713/68/68_21.avi\n"
     ]
    },
    {
     "name": "stderr",
     "output_type": "stream",
     "text": [
      " 70%|█████████████████████████████████████████████████████████▍                        | 21/30 [00:07<00:03,  2.92it/s]"
     ]
    },
    {
     "name": "stdout",
     "output_type": "stream",
     "text": [
      "Moviepy - Building video D:/Dataset_BENG/short_clips/20211222125713/68/68_22.avi.\n",
      "Moviepy - Writing video D:/Dataset_BENG/short_clips/20211222125713/68/68_22.avi\n",
      "\n"
     ]
    },
    {
     "name": "stderr",
     "output_type": "stream",
     "text": [
      "\n",
      "t:   0%|                                                                              | 0/60 [00:00<?, ?it/s, now=None]\u001b[A\n",
      " 73%|████████████████████████████████████████████████████████████▏                     | 22/30 [00:07<00:02,  2.96it/s]\u001b[A"
     ]
    },
    {
     "name": "stdout",
     "output_type": "stream",
     "text": [
      "Moviepy - Done !\n",
      "Moviepy - video ready D:/Dataset_BENG/short_clips/20211222125713/68/68_22.avi\n"
     ]
    },
    {
     "name": "stderr",
     "output_type": "stream",
     "text": [
      " 73%|████████████████████████████████████████████████████████████▏                     | 22/30 [00:07<00:02,  2.96it/s]"
     ]
    },
    {
     "name": "stdout",
     "output_type": "stream",
     "text": [
      "Moviepy - Building video D:/Dataset_BENG/short_clips/20211222125713/68/68_23.avi.\n",
      "Moviepy - Writing video D:/Dataset_BENG/short_clips/20211222125713/68/68_23.avi\n",
      "\n"
     ]
    },
    {
     "name": "stderr",
     "output_type": "stream",
     "text": [
      "\n",
      "t:   0%|                                                                              | 0/60 [00:00<?, ?it/s, now=None]\u001b[A\n",
      " 77%|██████████████████████████████████████████████████████████████▊                   | 23/30 [00:07<00:02,  2.92it/s]\u001b[A"
     ]
    },
    {
     "name": "stdout",
     "output_type": "stream",
     "text": [
      "Moviepy - Done !\n",
      "Moviepy - video ready D:/Dataset_BENG/short_clips/20211222125713/68/68_23.avi\n"
     ]
    },
    {
     "name": "stderr",
     "output_type": "stream",
     "text": [
      " 77%|██████████████████████████████████████████████████████████████▊                   | 23/30 [00:08<00:02,  2.92it/s]"
     ]
    },
    {
     "name": "stdout",
     "output_type": "stream",
     "text": [
      "Moviepy - Building video D:/Dataset_BENG/short_clips/20211222125713/68/68_24.avi.\n",
      "Moviepy - Writing video D:/Dataset_BENG/short_clips/20211222125713/68/68_24.avi\n",
      "\n"
     ]
    },
    {
     "name": "stderr",
     "output_type": "stream",
     "text": [
      "\n",
      "t:   0%|                                                                              | 0/60 [00:00<?, ?it/s, now=None]\u001b[A\n",
      " 80%|█████████████████████████████████████████████████████████████████▌                | 24/30 [00:08<00:02,  2.97it/s]\u001b[A"
     ]
    },
    {
     "name": "stdout",
     "output_type": "stream",
     "text": [
      "Moviepy - Done !\n",
      "Moviepy - video ready D:/Dataset_BENG/short_clips/20211222125713/68/68_24.avi\n"
     ]
    },
    {
     "name": "stderr",
     "output_type": "stream",
     "text": [
      " 80%|█████████████████████████████████████████████████████████████████▌                | 24/30 [00:08<00:02,  2.90it/s]\n"
     ]
    }
   ],
   "source": [
    "for input_video_path in video_file_list:\n",
    "    \n",
    "    pig_id = os.path.split(input_video_path)[1][:-4]\n",
    "    with open(\"times.txt\") as f:\n",
    "         times = f.readlines()\n",
    "\n",
    "    times = [x.strip() for x in times] \n",
    "\n",
    "    for time in tqdm(times):\n",
    "        t1 = int(time.split(\"-\")[0])\n",
    "        t2 = int(time.split(\"-\")[1])\n",
    "        idx = times.index(time)+1\n",
    "        output_video_path = os.path.join(main_video_path, pig_id)\n",
    "        if not osp.exists(output_video_path):\n",
    "            os.makedirs(output_video_path)\n",
    "\n",
    "        with VideoFileClip(input_video_path) as video:\n",
    "    #     video = VideoFileClip(input_video_path)\n",
    "            try:\n",
    "                new = video.subclip(t1, t2)\n",
    "                new.write_videofile(output_video_path+\"/{}_{}.avi\".format(pig_id, idx), codec='mpeg4')\n",
    "            except:\n",
    "                break"
   ]
  },
  {
   "cell_type": "markdown",
   "id": "1d2cc4a0",
   "metadata": {},
   "source": [
    "<br>"
   ]
  },
  {
   "cell_type": "markdown",
   "id": "5cd2733b",
   "metadata": {},
   "source": [
    "<br>"
   ]
  },
  {
   "cell_type": "markdown",
   "id": "6b17a7be",
   "metadata": {},
   "source": [
    "<br>"
   ]
  },
  {
   "cell_type": "markdown",
   "id": "c6911f2f",
   "metadata": {},
   "source": [
    "### Get the folder name (pig_id) and the clip index\n",
    "#### to be stored in CSV file for labelling later"
   ]
  },
  {
   "cell_type": "code",
   "execution_count": 43,
   "id": "a29315d9",
   "metadata": {},
   "outputs": [],
   "source": [
    "# main_folder = \"D:/Dataset_BENG/short_clips/20211216073510/\"\n",
    "files_list = []\n",
    "subfolders = os.listdir(main_video_path)\n",
    "subfolders.sort(key=lambda x: int(x))\n",
    "for pig_id in subfolders:\n",
    "    subfolder = osp.join(main_video_path, pig_id)\n",
    "    videos_list = os.listdir(subfolder)\n",
    "    videos_list = natsort.natsorted(videos_list)\n",
    "    for video in videos_list:\n",
    "        files_list.append((pig_id, video[:-4]))\n",
    "    \n",
    "# pd.DataFrame()"
   ]
  },
  {
   "cell_type": "code",
   "execution_count": 44,
   "id": "392a83ec",
   "metadata": {},
   "outputs": [
    {
     "data": {
      "text/html": [
       "<div>\n",
       "<style scoped>\n",
       "    .dataframe tbody tr th:only-of-type {\n",
       "        vertical-align: middle;\n",
       "    }\n",
       "\n",
       "    .dataframe tbody tr th {\n",
       "        vertical-align: top;\n",
       "    }\n",
       "\n",
       "    .dataframe thead th {\n",
       "        text-align: right;\n",
       "    }\n",
       "</style>\n",
       "<table border=\"1\" class=\"dataframe\">\n",
       "  <thead>\n",
       "    <tr style=\"text-align: right;\">\n",
       "      <th></th>\n",
       "      <th>pig_id</th>\n",
       "      <th>video</th>\n",
       "    </tr>\n",
       "  </thead>\n",
       "  <tbody>\n",
       "    <tr>\n",
       "      <th>109</th>\n",
       "      <td>68</td>\n",
       "      <td>68_20</td>\n",
       "    </tr>\n",
       "    <tr>\n",
       "      <th>110</th>\n",
       "      <td>68</td>\n",
       "      <td>68_21</td>\n",
       "    </tr>\n",
       "    <tr>\n",
       "      <th>111</th>\n",
       "      <td>68</td>\n",
       "      <td>68_22</td>\n",
       "    </tr>\n",
       "    <tr>\n",
       "      <th>112</th>\n",
       "      <td>68</td>\n",
       "      <td>68_23</td>\n",
       "    </tr>\n",
       "    <tr>\n",
       "      <th>113</th>\n",
       "      <td>68</td>\n",
       "      <td>68_24</td>\n",
       "    </tr>\n",
       "  </tbody>\n",
       "</table>\n",
       "</div>"
      ],
      "text/plain": [
       "    pig_id  video\n",
       "109     68  68_20\n",
       "110     68  68_21\n",
       "111     68  68_22\n",
       "112     68  68_23\n",
       "113     68  68_24"
      ]
     },
     "execution_count": 44,
     "metadata": {},
     "output_type": "execute_result"
    }
   ],
   "source": [
    "df = pd.DataFrame(files_list, columns=['pig_id', 'video'])\n",
    "df.tail()"
   ]
  },
  {
   "cell_type": "code",
   "execution_count": 45,
   "id": "f004c01f",
   "metadata": {},
   "outputs": [],
   "source": [
    "df.insert(0, 'main_dir', main_video_path)"
   ]
  },
  {
   "cell_type": "code",
   "execution_count": 46,
   "id": "3c31d708",
   "metadata": {},
   "outputs": [],
   "source": [
    "df.to_csv(date_time+\".csv\", index=False)"
   ]
  },
  {
   "cell_type": "code",
   "execution_count": null,
   "id": "5556dbb0",
   "metadata": {},
   "outputs": [],
   "source": []
  },
  {
   "cell_type": "code",
   "execution_count": null,
   "id": "35b38d13",
   "metadata": {},
   "outputs": [],
   "source": []
  },
  {
   "cell_type": "code",
   "execution_count": null,
   "id": "33a37782",
   "metadata": {},
   "outputs": [],
   "source": []
  }
 ],
 "metadata": {
  "kernelspec": {
   "display_name": "Python 3",
   "language": "python",
   "name": "python3"
  },
  "language_info": {
   "codemirror_mode": {
    "name": "ipython",
    "version": 3
   },
   "file_extension": ".py",
   "mimetype": "text/x-python",
   "name": "python",
   "nbconvert_exporter": "python",
   "pygments_lexer": "ipython3",
   "version": "3.8.8"
  }
 },
 "nbformat": 4,
 "nbformat_minor": 5
}
