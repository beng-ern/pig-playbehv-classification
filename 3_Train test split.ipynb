{
 "cells": [
  {
   "cell_type": "code",
   "execution_count": 1,
   "id": "2b8a7f21",
   "metadata": {},
   "outputs": [],
   "source": [
    "from torchvision.datasets.video_utils import VideoClips\n",
    "\n",
    "import pandas as pd\n",
    "import os\n",
    "import time\n",
    "import pickle\n",
    "import seaborn as sns\n",
    "\n",
    "from sklearn.model_selection import train_test_split\n",
    "import copy"
   ]
  },
  {
   "cell_type": "code",
   "execution_count": 6,
   "id": "b45ba428",
   "metadata": {},
   "outputs": [],
   "source": [
    "main_df = pd.read_csv('finalized_df.csv')"
   ]
  },
  {
   "cell_type": "code",
   "execution_count": 7,
   "id": "f73ca612",
   "metadata": {},
   "outputs": [],
   "source": [
    "main_video_path = 'D:/Dataset_BENG/short_clips/all_short_clips/'\n",
    "main_df['video_path'] = main_video_path + main_df['main_dir'].astype(str) + '/' + main_df['pig_id'].astype(str) + '/' + main_df['video'].astype(str)+'.avi'"
   ]
  },
  {
   "cell_type": "code",
   "execution_count": 8,
   "id": "f16b94f0",
   "metadata": {},
   "outputs": [],
   "source": [
    "robust_path = 'D:/Dataset_BENG/short_clips/all_short_clips/robust_test'\n",
    "\n",
    "robust_clips = []\n",
    "for root, dirs, files in os.walk('D:/Dataset_BENG/short_clips/all_short_clips/robust_test'):\n",
    "    for file in files:\n",
    "        clip = os.path.join(root, file)\n",
    "        robust_clips.append(clip)"
   ]
  },
  {
   "cell_type": "code",
   "execution_count": 10,
   "id": "d0d89845",
   "metadata": {},
   "outputs": [],
   "source": [
    "final_df = copy.deepcopy(main_df[~main_df['video_path'].isin(robust_clips)])\n",
    "final_df_ = final_df[['video_path', 'label', 'category']].copy().reset_index(drop=True)\n",
    "robust_df = copy.deepcopy(main_df[main_df['video_path'].isin(robust_clips)]) #Test Set 2 (manually selected)\n",
    "robust_df = robust_df.reset_index(drop=True)"
   ]
  },
  {
   "cell_type": "code",
   "execution_count": 11,
   "id": "d31dc718",
   "metadata": {},
   "outputs": [],
   "source": [
    "X, y = final_df_[['video_path', 'category']], final_df_['label']\n",
    "X_train, X_test, y_train, y_test = train_test_split(X, y, test_size=0.20, stratify=y, shuffle=True, random_state=42)"
   ]
  },
  {
   "cell_type": "code",
   "execution_count": null,
   "id": "b71b2d08",
   "metadata": {},
   "outputs": [],
   "source": [
    "# train set\n",
    "train_df = X_train.merge(y_train.to_frame(), left_index=True, right_index=True)\n",
    "train_df = train_df.reset_index(drop=True)\n",
    "\n",
    "# Test Set 1\n",
    "test_df = X_test.merge(y_test.to_frame(), left_index=True, right_index=True)\n",
    "test_df = test_df.reset_index(drop=True)\n",
    "\n",
    "print(\"train size:\", len(train_df))\n",
    "print(\"test size:\", len(test_df))"
   ]
  },
  {
   "cell_type": "code",
   "execution_count": null,
   "id": "46c771a2",
   "metadata": {},
   "outputs": [],
   "source": [
    "train_df.to_csv('train_data_random_final.csv', index=False)\n",
    "test_df.to_csv('test_data_random_final.csv', index=False)"
   ]
  },
  {
   "cell_type": "code",
   "execution_count": null,
   "id": "52381e1c",
   "metadata": {},
   "outputs": [],
   "source": [
    "# Test Set 2\n",
    "robust_df_ = robust_df[['video_path', 'category', 'label']].copy()\n",
    "robust_df_.to_csv('robust_test.csv', index=False)"
   ]
  },
  {
   "cell_type": "markdown",
   "id": "d1f53e36",
   "metadata": {},
   "source": [
    "### Convert into pickle file for train & test sets"
   ]
  },
  {
   "cell_type": "code",
   "execution_count": null,
   "id": "93257a65",
   "metadata": {},
   "outputs": [],
   "source": [
    "# video clip properties\n",
    "clip_length_in_frames=60\n",
    "frames_between_clips=60"
   ]
  },
  {
   "cell_type": "markdown",
   "id": "c4f6dc75",
   "metadata": {},
   "source": [
    "#### Train Set"
   ]
  },
  {
   "cell_type": "code",
   "execution_count": null,
   "id": "fe977f5b",
   "metadata": {},
   "outputs": [],
   "source": [
    "start=time.time()\n",
    "video_clips=VideoClips(video_paths=train_df['video_path'],\n",
    "                      clip_length_in_frames=clip_length_in_frames,\n",
    "                      frames_between_clips=frames_between_clips)\n",
    "end=time.time()\n",
    "total=end-start\n",
    "print(f'Spent time: {total//60 :.0f}m {total%60 :.0f}s')"
   ]
  },
  {
   "cell_type": "code",
   "execution_count": null,
   "id": "b42cc7f3",
   "metadata": {},
   "outputs": [],
   "source": [
    "with open('D:/Dataset_BENG/short_clips/all_short_clips/train_set.pkl', 'wb') as f:\n",
    "    pickle.dump(video_clips, f)"
   ]
  },
  {
   "cell_type": "markdown",
   "id": "45c0a35f",
   "metadata": {},
   "source": [
    "#### Test Set 1"
   ]
  },
  {
   "cell_type": "code",
   "execution_count": null,
   "id": "bda8d482",
   "metadata": {},
   "outputs": [],
   "source": [
    "start=time.time()\n",
    "video_clips_=VideoClips(video_paths=test_df['video_path'],\n",
    "                      clip_length_in_frames=clip_length_in_frames,\n",
    "                      frames_between_clips=frames_between_clips)\n",
    "end=time.time()\n",
    "total=end-start\n",
    "print(f'Spent time: {total//60 :.0f}m {total%60 :.0f}s')"
   ]
  },
  {
   "cell_type": "code",
   "execution_count": null,
   "id": "11a6d8d4",
   "metadata": {},
   "outputs": [],
   "source": [
    "with open('D:/Dataset_BENG/short_clips/all_short_clips/test_set.pkl', 'wb') as f:\n",
    "    pickle.dump(video_clips_, f)"
   ]
  },
  {
   "cell_type": "markdown",
   "id": "675f3e47",
   "metadata": {},
   "source": [
    "#### Test Set 2"
   ]
  },
  {
   "cell_type": "code",
   "execution_count": null,
   "id": "cf2cc65f",
   "metadata": {},
   "outputs": [],
   "source": [
    "start=time.time()\n",
    "video_clips_r=VideoClips(video_paths=robust_df_['video_path'],\n",
    "                      clip_length_in_frames=clip_length_in_frames,\n",
    "                      frames_between_clips=frames_between_clips)\n",
    "end=time.time()\n",
    "total=end-start\n",
    "print(f'Spent time: {total//60 :.0f}m {total%60 :.0f}s')"
   ]
  },
  {
   "cell_type": "code",
   "execution_count": null,
   "id": "56c33e47",
   "metadata": {},
   "outputs": [],
   "source": [
    "with open('D:/Dataset_BENG/short_clips/all_short_clips/robust_test.pkl', 'wb') as f:\n",
    "    pickle.dump(video_clips_r, f)"
   ]
  }
 ],
 "metadata": {
  "kernelspec": {
   "display_name": "Python 3",
   "language": "python",
   "name": "python3"
  },
  "language_info": {
   "codemirror_mode": {
    "name": "ipython",
    "version": 3
   },
   "file_extension": ".py",
   "mimetype": "text/x-python",
   "name": "python",
   "nbconvert_exporter": "python",
   "pygments_lexer": "ipython3",
   "version": "3.8.8"
  }
 },
 "nbformat": 4,
 "nbformat_minor": 5
}
